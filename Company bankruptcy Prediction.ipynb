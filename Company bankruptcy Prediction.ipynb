{
 "cells": [
  {
   "cell_type": "code",
   "execution_count": 309,
   "id": "df86598e",
   "metadata": {},
   "outputs": [],
   "source": [
    "import pandas as pd\n",
    "import matplotlib.pyplot as plt\n",
    "import numpy as np\n",
    "import seaborn as sns\n",
    "\n",
    "from sklearn.ensemble import RandomForestClassifier, GradientBoostingClassifier, AdaBoostClassifier\n",
    "from sklearn.feature_selection import RFE\n",
    "from sklearn.model_selection import train_test_split, GridSearchCV\n",
    "from sklearn.metrics import classification_report, roc_auc_score, confusion_matrix, precision_score, recall_score,f1_score\n",
    "\n",
    "from imblearn.over_sampling import SMOTE"
   ]
  },
  {
   "cell_type": "code",
   "execution_count": 2,
   "id": "66547308",
   "metadata": {},
   "outputs": [
    {
     "data": {
      "text/html": [
       "<div>\n",
       "<style scoped>\n",
       "    .dataframe tbody tr th:only-of-type {\n",
       "        vertical-align: middle;\n",
       "    }\n",
       "\n",
       "    .dataframe tbody tr th {\n",
       "        vertical-align: top;\n",
       "    }\n",
       "\n",
       "    .dataframe thead th {\n",
       "        text-align: right;\n",
       "    }\n",
       "</style>\n",
       "<table border=\"1\" class=\"dataframe\">\n",
       "  <thead>\n",
       "    <tr style=\"text-align: right;\">\n",
       "      <th></th>\n",
       "      <th>Bankrupt?</th>\n",
       "      <th>ROA(C) before interest and depreciation before interest</th>\n",
       "      <th>ROA(A) before interest and % after tax</th>\n",
       "      <th>ROA(B) before interest and depreciation after tax</th>\n",
       "      <th>Operating Gross Margin</th>\n",
       "      <th>Realized Sales Gross Margin</th>\n",
       "      <th>Operating Profit Rate</th>\n",
       "      <th>Pre-tax net Interest Rate</th>\n",
       "      <th>After-tax net Interest Rate</th>\n",
       "      <th>Non-industry income and expenditure/revenue</th>\n",
       "      <th>...</th>\n",
       "      <th>Net Income to Total Assets</th>\n",
       "      <th>Total assets to GNP price</th>\n",
       "      <th>No-credit Interval</th>\n",
       "      <th>Gross Profit to Sales</th>\n",
       "      <th>Net Income to Stockholder's Equity</th>\n",
       "      <th>Liability to Equity</th>\n",
       "      <th>Degree of Financial Leverage (DFL)</th>\n",
       "      <th>Interest Coverage Ratio (Interest expense to EBIT)</th>\n",
       "      <th>Net Income Flag</th>\n",
       "      <th>Equity to Liability</th>\n",
       "    </tr>\n",
       "  </thead>\n",
       "  <tbody>\n",
       "    <tr>\n",
       "      <th>0</th>\n",
       "      <td>1</td>\n",
       "      <td>0.370594</td>\n",
       "      <td>0.424389</td>\n",
       "      <td>0.405750</td>\n",
       "      <td>0.601457</td>\n",
       "      <td>0.601457</td>\n",
       "      <td>0.998969</td>\n",
       "      <td>0.796887</td>\n",
       "      <td>0.808809</td>\n",
       "      <td>0.302646</td>\n",
       "      <td>...</td>\n",
       "      <td>0.716845</td>\n",
       "      <td>0.009219</td>\n",
       "      <td>0.622879</td>\n",
       "      <td>0.601453</td>\n",
       "      <td>0.827890</td>\n",
       "      <td>0.290202</td>\n",
       "      <td>0.026601</td>\n",
       "      <td>0.564050</td>\n",
       "      <td>1</td>\n",
       "      <td>0.016469</td>\n",
       "    </tr>\n",
       "    <tr>\n",
       "      <th>1</th>\n",
       "      <td>1</td>\n",
       "      <td>0.464291</td>\n",
       "      <td>0.538214</td>\n",
       "      <td>0.516730</td>\n",
       "      <td>0.610235</td>\n",
       "      <td>0.610235</td>\n",
       "      <td>0.998946</td>\n",
       "      <td>0.797380</td>\n",
       "      <td>0.809301</td>\n",
       "      <td>0.303556</td>\n",
       "      <td>...</td>\n",
       "      <td>0.795297</td>\n",
       "      <td>0.008323</td>\n",
       "      <td>0.623652</td>\n",
       "      <td>0.610237</td>\n",
       "      <td>0.839969</td>\n",
       "      <td>0.283846</td>\n",
       "      <td>0.264577</td>\n",
       "      <td>0.570175</td>\n",
       "      <td>1</td>\n",
       "      <td>0.020794</td>\n",
       "    </tr>\n",
       "    <tr>\n",
       "      <th>2</th>\n",
       "      <td>1</td>\n",
       "      <td>0.426071</td>\n",
       "      <td>0.499019</td>\n",
       "      <td>0.472295</td>\n",
       "      <td>0.601450</td>\n",
       "      <td>0.601364</td>\n",
       "      <td>0.998857</td>\n",
       "      <td>0.796403</td>\n",
       "      <td>0.808388</td>\n",
       "      <td>0.302035</td>\n",
       "      <td>...</td>\n",
       "      <td>0.774670</td>\n",
       "      <td>0.040003</td>\n",
       "      <td>0.623841</td>\n",
       "      <td>0.601449</td>\n",
       "      <td>0.836774</td>\n",
       "      <td>0.290189</td>\n",
       "      <td>0.026555</td>\n",
       "      <td>0.563706</td>\n",
       "      <td>1</td>\n",
       "      <td>0.016474</td>\n",
       "    </tr>\n",
       "    <tr>\n",
       "      <th>3</th>\n",
       "      <td>1</td>\n",
       "      <td>0.399844</td>\n",
       "      <td>0.451265</td>\n",
       "      <td>0.457733</td>\n",
       "      <td>0.583541</td>\n",
       "      <td>0.583541</td>\n",
       "      <td>0.998700</td>\n",
       "      <td>0.796967</td>\n",
       "      <td>0.808966</td>\n",
       "      <td>0.303350</td>\n",
       "      <td>...</td>\n",
       "      <td>0.739555</td>\n",
       "      <td>0.003252</td>\n",
       "      <td>0.622929</td>\n",
       "      <td>0.583538</td>\n",
       "      <td>0.834697</td>\n",
       "      <td>0.281721</td>\n",
       "      <td>0.026697</td>\n",
       "      <td>0.564663</td>\n",
       "      <td>1</td>\n",
       "      <td>0.023982</td>\n",
       "    </tr>\n",
       "    <tr>\n",
       "      <th>4</th>\n",
       "      <td>1</td>\n",
       "      <td>0.465022</td>\n",
       "      <td>0.538432</td>\n",
       "      <td>0.522298</td>\n",
       "      <td>0.598783</td>\n",
       "      <td>0.598783</td>\n",
       "      <td>0.998973</td>\n",
       "      <td>0.797366</td>\n",
       "      <td>0.809304</td>\n",
       "      <td>0.303475</td>\n",
       "      <td>...</td>\n",
       "      <td>0.795016</td>\n",
       "      <td>0.003878</td>\n",
       "      <td>0.623521</td>\n",
       "      <td>0.598782</td>\n",
       "      <td>0.839973</td>\n",
       "      <td>0.278514</td>\n",
       "      <td>0.024752</td>\n",
       "      <td>0.575617</td>\n",
       "      <td>1</td>\n",
       "      <td>0.035490</td>\n",
       "    </tr>\n",
       "  </tbody>\n",
       "</table>\n",
       "<p>5 rows × 96 columns</p>\n",
       "</div>"
      ],
      "text/plain": [
       "   Bankrupt?   ROA(C) before interest and depreciation before interest  \\\n",
       "0          1                                           0.370594          \n",
       "1          1                                           0.464291          \n",
       "2          1                                           0.426071          \n",
       "3          1                                           0.399844          \n",
       "4          1                                           0.465022          \n",
       "\n",
       "    ROA(A) before interest and % after tax  \\\n",
       "0                                 0.424389   \n",
       "1                                 0.538214   \n",
       "2                                 0.499019   \n",
       "3                                 0.451265   \n",
       "4                                 0.538432   \n",
       "\n",
       "    ROA(B) before interest and depreciation after tax  \\\n",
       "0                                           0.405750    \n",
       "1                                           0.516730    \n",
       "2                                           0.472295    \n",
       "3                                           0.457733    \n",
       "4                                           0.522298    \n",
       "\n",
       "    Operating Gross Margin   Realized Sales Gross Margin  \\\n",
       "0                 0.601457                      0.601457   \n",
       "1                 0.610235                      0.610235   \n",
       "2                 0.601450                      0.601364   \n",
       "3                 0.583541                      0.583541   \n",
       "4                 0.598783                      0.598783   \n",
       "\n",
       "    Operating Profit Rate   Pre-tax net Interest Rate  \\\n",
       "0                0.998969                    0.796887   \n",
       "1                0.998946                    0.797380   \n",
       "2                0.998857                    0.796403   \n",
       "3                0.998700                    0.796967   \n",
       "4                0.998973                    0.797366   \n",
       "\n",
       "    After-tax net Interest Rate   Non-industry income and expenditure/revenue  \\\n",
       "0                      0.808809                                      0.302646   \n",
       "1                      0.809301                                      0.303556   \n",
       "2                      0.808388                                      0.302035   \n",
       "3                      0.808966                                      0.303350   \n",
       "4                      0.809304                                      0.303475   \n",
       "\n",
       "   ...   Net Income to Total Assets   Total assets to GNP price  \\\n",
       "0  ...                     0.716845                    0.009219   \n",
       "1  ...                     0.795297                    0.008323   \n",
       "2  ...                     0.774670                    0.040003   \n",
       "3  ...                     0.739555                    0.003252   \n",
       "4  ...                     0.795016                    0.003878   \n",
       "\n",
       "    No-credit Interval   Gross Profit to Sales  \\\n",
       "0             0.622879                0.601453   \n",
       "1             0.623652                0.610237   \n",
       "2             0.623841                0.601449   \n",
       "3             0.622929                0.583538   \n",
       "4             0.623521                0.598782   \n",
       "\n",
       "    Net Income to Stockholder's Equity   Liability to Equity  \\\n",
       "0                             0.827890              0.290202   \n",
       "1                             0.839969              0.283846   \n",
       "2                             0.836774              0.290189   \n",
       "3                             0.834697              0.281721   \n",
       "4                             0.839973              0.278514   \n",
       "\n",
       "    Degree of Financial Leverage (DFL)  \\\n",
       "0                             0.026601   \n",
       "1                             0.264577   \n",
       "2                             0.026555   \n",
       "3                             0.026697   \n",
       "4                             0.024752   \n",
       "\n",
       "    Interest Coverage Ratio (Interest expense to EBIT)   Net Income Flag  \\\n",
       "0                                           0.564050                   1   \n",
       "1                                           0.570175                   1   \n",
       "2                                           0.563706                   1   \n",
       "3                                           0.564663                   1   \n",
       "4                                           0.575617                   1   \n",
       "\n",
       "    Equity to Liability  \n",
       "0              0.016469  \n",
       "1              0.020794  \n",
       "2              0.016474  \n",
       "3              0.023982  \n",
       "4              0.035490  \n",
       "\n",
       "[5 rows x 96 columns]"
      ]
     },
     "execution_count": 2,
     "metadata": {},
     "output_type": "execute_result"
    }
   ],
   "source": [
    "company = pd.read_csv(r'F:\\01_Dataset\\04 Tabular\\05 Company Bankrupcy Prediction\\data.csv')\n",
    "company.head()"
   ]
  },
  {
   "cell_type": "code",
   "execution_count": 3,
   "id": "e7583530",
   "metadata": {},
   "outputs": [
    {
     "data": {
      "text/plain": [
       "0.0    95\n",
       "1.0     1\n",
       "Name: min, dtype: int64"
      ]
     },
     "execution_count": 3,
     "metadata": {},
     "output_type": "execute_result"
    }
   ],
   "source": [
    "company_min = company.describe().transpose()['min']\n",
    "company_min.value_counts()"
   ]
  },
  {
   "cell_type": "code",
   "execution_count": 4,
   "id": "f2060470",
   "metadata": {},
   "outputs": [
    {
     "data": {
      "text/plain": [
       "1.000000e+00    72\n",
       "9.990000e+09     4\n",
       "1.000000e+10     3\n",
       "8.320000e+09     1\n",
       "9.540000e+09     1\n",
       "9.910000e+09     1\n",
       "9.650000e+09     1\n",
       "8.820000e+09     1\n",
       "9.570000e+09     1\n",
       "8.810000e+09     1\n",
       "9.730000e+09     1\n",
       "9.740000e+09     1\n",
       "9.940000e+09     1\n",
       "9.230000e+09     1\n",
       "2.750000e+09     1\n",
       "9.330000e+09     1\n",
       "3.020000e+09     1\n",
       "9.900000e+08     1\n",
       "9.980000e+09     1\n",
       "9.820000e+09     1\n",
       "Name: max, dtype: int64"
      ]
     },
     "execution_count": 4,
     "metadata": {},
     "output_type": "execute_result"
    }
   ],
   "source": [
    "company_min = company.describe().transpose()['max']\n",
    "company_min.value_counts()"
   ]
  },
  {
   "cell_type": "markdown",
   "id": "c6f6fedb",
   "metadata": {},
   "source": [
    "## PART I : FEATURE SELECTION"
   ]
  },
  {
   "cell_type": "code",
   "execution_count": 5,
   "id": "890a40e0",
   "metadata": {},
   "outputs": [
    {
     "data": {
      "text/plain": [
       "0    96\n",
       "dtype: int64"
      ]
     },
     "execution_count": 5,
     "metadata": {},
     "output_type": "execute_result"
    }
   ],
   "source": [
    "a = company.isnull().sum()\n",
    "a.value_counts()"
   ]
  },
  {
   "cell_type": "code",
   "execution_count": 6,
   "id": "d1a1ab63",
   "metadata": {},
   "outputs": [
    {
     "data": {
      "text/html": [
       "<div>\n",
       "<style scoped>\n",
       "    .dataframe tbody tr th:only-of-type {\n",
       "        vertical-align: middle;\n",
       "    }\n",
       "\n",
       "    .dataframe tbody tr th {\n",
       "        vertical-align: top;\n",
       "    }\n",
       "\n",
       "    .dataframe thead th {\n",
       "        text-align: right;\n",
       "    }\n",
       "</style>\n",
       "<table border=\"1\" class=\"dataframe\">\n",
       "  <thead>\n",
       "    <tr style=\"text-align: right;\">\n",
       "      <th></th>\n",
       "      <th>main_feature</th>\n",
       "      <th>correlated feature</th>\n",
       "      <th>correlation_score</th>\n",
       "    </tr>\n",
       "  </thead>\n",
       "  <tbody>\n",
       "    <tr>\n",
       "      <th>7456</th>\n",
       "      <td>Current Liability to Liability</td>\n",
       "      <td>Current Liabilities/Liability</td>\n",
       "      <td>1.0</td>\n",
       "    </tr>\n",
       "    <tr>\n",
       "      <th>6414</th>\n",
       "      <td>Current Liabilities/Equity</td>\n",
       "      <td>Current Liability to Equity</td>\n",
       "      <td>1.0</td>\n",
       "    </tr>\n",
       "    <tr>\n",
       "      <th>6221</th>\n",
       "      <td>Current Liabilities/Liability</td>\n",
       "      <td>Current Liability to Liability</td>\n",
       "      <td>1.0</td>\n",
       "    </tr>\n",
       "    <tr>\n",
       "      <th>7554</th>\n",
       "      <td>Current Liability to Equity</td>\n",
       "      <td>Current Liabilities/Equity</td>\n",
       "      <td>1.0</td>\n",
       "    </tr>\n",
       "    <tr>\n",
       "      <th>8548</th>\n",
       "      <td>Gross Profit to Sales</td>\n",
       "      <td>Operating Gross Margin</td>\n",
       "      <td>1.0</td>\n",
       "    </tr>\n",
       "    <tr>\n",
       "      <th>...</th>\n",
       "      <td>...</td>\n",
       "      <td>...</td>\n",
       "      <td>...</td>\n",
       "    </tr>\n",
       "    <tr>\n",
       "      <th>9115</th>\n",
       "      <td>Net Income Flag</td>\n",
       "      <td>Liability to Equity</td>\n",
       "      <td>NaN</td>\n",
       "    </tr>\n",
       "    <tr>\n",
       "      <th>9116</th>\n",
       "      <td>Net Income Flag</td>\n",
       "      <td>Degree of Financial Leverage (DFL)</td>\n",
       "      <td>NaN</td>\n",
       "    </tr>\n",
       "    <tr>\n",
       "      <th>9117</th>\n",
       "      <td>Net Income Flag</td>\n",
       "      <td>Interest Coverage Ratio (Interest expense to ...</td>\n",
       "      <td>NaN</td>\n",
       "    </tr>\n",
       "    <tr>\n",
       "      <th>9119</th>\n",
       "      <td>Net Income Flag</td>\n",
       "      <td>Equity to Liability</td>\n",
       "      <td>NaN</td>\n",
       "    </tr>\n",
       "    <tr>\n",
       "      <th>9214</th>\n",
       "      <td>Equity to Liability</td>\n",
       "      <td>Net Income Flag</td>\n",
       "      <td>NaN</td>\n",
       "    </tr>\n",
       "  </tbody>\n",
       "</table>\n",
       "<p>9120 rows × 3 columns</p>\n",
       "</div>"
      ],
      "text/plain": [
       "                         main_feature  \\\n",
       "7456   Current Liability to Liability   \n",
       "6414       Current Liabilities/Equity   \n",
       "6221    Current Liabilities/Liability   \n",
       "7554      Current Liability to Equity   \n",
       "8548            Gross Profit to Sales   \n",
       "...                               ...   \n",
       "9115                  Net Income Flag   \n",
       "9116                  Net Income Flag   \n",
       "9117                  Net Income Flag   \n",
       "9119                  Net Income Flag   \n",
       "9214              Equity to Liability   \n",
       "\n",
       "                                     correlated feature  correlation_score  \n",
       "7456                      Current Liabilities/Liability                1.0  \n",
       "6414                        Current Liability to Equity                1.0  \n",
       "6221                     Current Liability to Liability                1.0  \n",
       "7554                         Current Liabilities/Equity                1.0  \n",
       "8548                             Operating Gross Margin                1.0  \n",
       "...                                                 ...                ...  \n",
       "9115                                Liability to Equity                NaN  \n",
       "9116                 Degree of Financial Leverage (DFL)                NaN  \n",
       "9117   Interest Coverage Ratio (Interest expense to ...                NaN  \n",
       "9119                                Equity to Liability                NaN  \n",
       "9214                                    Net Income Flag                NaN  \n",
       "\n",
       "[9120 rows x 3 columns]"
      ]
     },
     "execution_count": 6,
     "metadata": {},
     "output_type": "execute_result"
    }
   ],
   "source": [
    "company_corr = pd.DataFrame(company.corr().unstack(level=1))\n",
    "company_corr = company_corr.reset_index()\n",
    "company_corr.columns = ['main_feature','correlated feature','correlation_score']\n",
    "company_corr = company_corr[company_corr['main_feature'] != company_corr['correlated feature']]\n",
    "company_corr = company_corr.sort_values(by='correlation_score',ascending=False)\n",
    "company_corr"
   ]
  },
  {
   "cell_type": "markdown",
   "id": "1a8ae64d",
   "metadata": {},
   "source": [
    "## Obeservation\n",
    "the above table shoed that high correlation score is the redundancy feature such as Current Liability to Liability and Current Liabilities/Liability is the repeative feature which is kept in different name of feature."
   ]
  },
  {
   "cell_type": "code",
   "execution_count": 7,
   "id": "fc80909b",
   "metadata": {},
   "outputs": [],
   "source": [
    "#Delete Feature - \"Net Income Flag\" - they are one in every company.\n",
    "company = company.drop(' Net Income Flag',axis=1)"
   ]
  },
  {
   "cell_type": "markdown",
   "id": "bf79bf18",
   "metadata": {},
   "source": [
    "#### Correlation-based feature selection"
   ]
  },
  {
   "cell_type": "code",
   "execution_count": 8,
   "id": "2380d9d3",
   "metadata": {},
   "outputs": [
    {
     "data": {
      "text/plain": [
       "77"
      ]
     },
     "execution_count": 8,
     "metadata": {},
     "output_type": "execute_result"
    }
   ],
   "source": [
    "#Delete the feature more than 0.9\n",
    "corr = company.corr()\n",
    "columns = np.full((corr.shape[0],),True,dtype=bool)\n",
    "for i in range(corr.shape[0]):\n",
    "    for j in range(i+1,corr.shape[0]):\n",
    "        if corr.iloc[i,j] >= 0.9:\n",
    "            if columns[j]:\n",
    "                columns[j] = False\n",
    "company_new = company[company.columns[columns]]\n",
    "len(company_new.columns)"
   ]
  },
  {
   "cell_type": "markdown",
   "id": "0253be66",
   "metadata": {},
   "source": [
    "#### Model-based Feature Selection"
   ]
  },
  {
   "cell_type": "code",
   "execution_count": 9,
   "id": "eb936e89",
   "metadata": {
    "scrolled": true
   },
   "outputs": [],
   "source": [
    "X = company_new.drop('Bankrupt?',axis=1)\n",
    "y = company_new['Bankrupt?']\n",
    "X_train, X_test, y_train, y_test = train_test_split(X,y,test_size=0.3,random_state=41)"
   ]
  },
  {
   "cell_type": "code",
   "execution_count": 10,
   "id": "6b4382b1",
   "metadata": {},
   "outputs": [
    {
     "name": "stdout",
     "output_type": "stream",
     "text": [
      "Test score: 0.966  number of features: 5\n",
      "Test score: 0.968  number of features: 10\n",
      "Test score: 0.968  number of features: 15\n",
      "Test score: 0.970  number of features: 20\n",
      "Test score: 0.970  number of features: 25\n",
      "Test score: 0.971  number of features: 30\n",
      "Test score: 0.968  number of features: 35\n",
      "Test score: 0.970  number of features: 40\n",
      "Test score: 0.970  number of features: 45\n"
     ]
    }
   ],
   "source": [
    "n_features = [5,10,15,20,25,30,35,40,45]\n",
    "for i in n_features:\n",
    "    rfe = RFE(RandomForestClassifier(n_estimators=100,random_state=41),n_features_to_select=i)\n",
    "    rfe.fit(X_train,y_train)\n",
    "    mask = rfe.get_support()\n",
    "\n",
    "    X_train_rfe = rfe.transform(X_train)\n",
    "    X_test_rfe = rfe.transform(X_test)\n",
    "    score = RandomForestClassifier().fit(X_train_rfe,y_train).score(X_test_rfe,y_test)\n",
    "    print(\"Test score: {:.3f}\".format(score), \" number of features: {}\".format(i))"
   ]
  },
  {
   "cell_type": "markdown",
   "id": "450e10a8",
   "metadata": {},
   "source": [
    "the number of optimal feature to reach the highest accuracy is \"30\"."
   ]
  },
  {
   "cell_type": "code",
   "execution_count": 19,
   "id": "e8547e0e",
   "metadata": {},
   "outputs": [],
   "source": [
    "rfe = RFE(RandomForestClassifier(n_estimators=100,random_state=41),n_features_to_select=30)\n",
    "rfe.fit(X_train,y_train)\n",
    "mask =rfe.get_support()\n",
    "X_train_rfe = rfe.transform(X_train)\n",
    "X_test_rfe = rfe.transform(X_test)\n",
    "feature = pd.DataFrame({'features':list(company_new.iloc[:,1:].keys()),'select':list(mask)})"
   ]
  },
  {
   "cell_type": "code",
   "execution_count": 21,
   "id": "3bd4d45b",
   "metadata": {
    "scrolled": true
   },
   "outputs": [
    {
     "data": {
      "text/html": [
       "<div>\n",
       "<style scoped>\n",
       "    .dataframe tbody tr th:only-of-type {\n",
       "        vertical-align: middle;\n",
       "    }\n",
       "\n",
       "    .dataframe tbody tr th {\n",
       "        vertical-align: top;\n",
       "    }\n",
       "\n",
       "    .dataframe thead th {\n",
       "        text-align: right;\n",
       "    }\n",
       "</style>\n",
       "<table border=\"1\" class=\"dataframe\">\n",
       "  <thead>\n",
       "    <tr style=\"text-align: right;\">\n",
       "      <th></th>\n",
       "      <th>ROA(C) before interest and depreciation before interest</th>\n",
       "      <th>Non-industry income and expenditure/revenue</th>\n",
       "      <th>Interest-bearing debt interest rate</th>\n",
       "      <th>Net Value Per Share (B)</th>\n",
       "      <th>Persistent EPS in the Last Four Seasons</th>\n",
       "      <th>Net Value Growth Rate</th>\n",
       "      <th>Total Asset Return Growth Rate Ratio</th>\n",
       "      <th>Quick Ratio</th>\n",
       "      <th>Interest Expense Ratio</th>\n",
       "      <th>Total debt/Total net worth</th>\n",
       "      <th>...</th>\n",
       "      <th>Inventory/Working Capital</th>\n",
       "      <th>Working Capital/Equity</th>\n",
       "      <th>Total income/Total expense</th>\n",
       "      <th>Total assets to GNP price</th>\n",
       "      <th>No-credit Interval</th>\n",
       "      <th>Net Income to Stockholder's Equity</th>\n",
       "      <th>Degree of Financial Leverage (DFL)</th>\n",
       "      <th>Interest Coverage Ratio (Interest expense to EBIT)</th>\n",
       "      <th>Equity to Liability</th>\n",
       "      <th>Bankrupt?</th>\n",
       "    </tr>\n",
       "  </thead>\n",
       "  <tbody>\n",
       "    <tr>\n",
       "      <th>0</th>\n",
       "      <td>0.370594</td>\n",
       "      <td>0.302646</td>\n",
       "      <td>0.000725</td>\n",
       "      <td>0.147950</td>\n",
       "      <td>0.169141</td>\n",
       "      <td>0.000327</td>\n",
       "      <td>0.263100</td>\n",
       "      <td>0.001208</td>\n",
       "      <td>0.629951</td>\n",
       "      <td>0.021266</td>\n",
       "      <td>...</td>\n",
       "      <td>0.276920</td>\n",
       "      <td>0.721275</td>\n",
       "      <td>0.002022</td>\n",
       "      <td>0.009219</td>\n",
       "      <td>0.622879</td>\n",
       "      <td>0.827890</td>\n",
       "      <td>0.026601</td>\n",
       "      <td>0.564050</td>\n",
       "      <td>0.016469</td>\n",
       "      <td>1</td>\n",
       "    </tr>\n",
       "    <tr>\n",
       "      <th>1</th>\n",
       "      <td>0.464291</td>\n",
       "      <td>0.303556</td>\n",
       "      <td>0.000647</td>\n",
       "      <td>0.182251</td>\n",
       "      <td>0.208944</td>\n",
       "      <td>0.000443</td>\n",
       "      <td>0.264516</td>\n",
       "      <td>0.004039</td>\n",
       "      <td>0.635172</td>\n",
       "      <td>0.012502</td>\n",
       "      <td>...</td>\n",
       "      <td>0.289642</td>\n",
       "      <td>0.731975</td>\n",
       "      <td>0.002226</td>\n",
       "      <td>0.008323</td>\n",
       "      <td>0.623652</td>\n",
       "      <td>0.839969</td>\n",
       "      <td>0.264577</td>\n",
       "      <td>0.570175</td>\n",
       "      <td>0.020794</td>\n",
       "      <td>1</td>\n",
       "    </tr>\n",
       "    <tr>\n",
       "      <th>2</th>\n",
       "      <td>0.426071</td>\n",
       "      <td>0.302035</td>\n",
       "      <td>0.000790</td>\n",
       "      <td>0.177911</td>\n",
       "      <td>0.180581</td>\n",
       "      <td>0.000396</td>\n",
       "      <td>0.264184</td>\n",
       "      <td>0.005348</td>\n",
       "      <td>0.629631</td>\n",
       "      <td>0.021248</td>\n",
       "      <td>...</td>\n",
       "      <td>0.277456</td>\n",
       "      <td>0.742729</td>\n",
       "      <td>0.002060</td>\n",
       "      <td>0.040003</td>\n",
       "      <td>0.623841</td>\n",
       "      <td>0.836774</td>\n",
       "      <td>0.026555</td>\n",
       "      <td>0.563706</td>\n",
       "      <td>0.016474</td>\n",
       "      <td>1</td>\n",
       "    </tr>\n",
       "    <tr>\n",
       "      <th>3</th>\n",
       "      <td>0.399844</td>\n",
       "      <td>0.303350</td>\n",
       "      <td>0.000449</td>\n",
       "      <td>0.154187</td>\n",
       "      <td>0.193722</td>\n",
       "      <td>0.000382</td>\n",
       "      <td>0.263371</td>\n",
       "      <td>0.002896</td>\n",
       "      <td>0.630228</td>\n",
       "      <td>0.009572</td>\n",
       "      <td>...</td>\n",
       "      <td>0.276580</td>\n",
       "      <td>0.729825</td>\n",
       "      <td>0.001831</td>\n",
       "      <td>0.003252</td>\n",
       "      <td>0.622929</td>\n",
       "      <td>0.834697</td>\n",
       "      <td>0.026697</td>\n",
       "      <td>0.564663</td>\n",
       "      <td>0.023982</td>\n",
       "      <td>1</td>\n",
       "    </tr>\n",
       "    <tr>\n",
       "      <th>4</th>\n",
       "      <td>0.465022</td>\n",
       "      <td>0.303475</td>\n",
       "      <td>0.000686</td>\n",
       "      <td>0.167502</td>\n",
       "      <td>0.212537</td>\n",
       "      <td>0.000439</td>\n",
       "      <td>0.265218</td>\n",
       "      <td>0.003727</td>\n",
       "      <td>0.636055</td>\n",
       "      <td>0.005150</td>\n",
       "      <td>...</td>\n",
       "      <td>0.287913</td>\n",
       "      <td>0.732000</td>\n",
       "      <td>0.002224</td>\n",
       "      <td>0.003878</td>\n",
       "      <td>0.623521</td>\n",
       "      <td>0.839973</td>\n",
       "      <td>0.024752</td>\n",
       "      <td>0.575617</td>\n",
       "      <td>0.035490</td>\n",
       "      <td>1</td>\n",
       "    </tr>\n",
       "  </tbody>\n",
       "</table>\n",
       "<p>5 rows × 31 columns</p>\n",
       "</div>"
      ],
      "text/plain": [
       "    ROA(C) before interest and depreciation before interest  \\\n",
       "0                                           0.370594          \n",
       "1                                           0.464291          \n",
       "2                                           0.426071          \n",
       "3                                           0.399844          \n",
       "4                                           0.465022          \n",
       "\n",
       "    Non-industry income and expenditure/revenue  \\\n",
       "0                                      0.302646   \n",
       "1                                      0.303556   \n",
       "2                                      0.302035   \n",
       "3                                      0.303350   \n",
       "4                                      0.303475   \n",
       "\n",
       "    Interest-bearing debt interest rate   Net Value Per Share (B)  \\\n",
       "0                              0.000725                  0.147950   \n",
       "1                              0.000647                  0.182251   \n",
       "2                              0.000790                  0.177911   \n",
       "3                              0.000449                  0.154187   \n",
       "4                              0.000686                  0.167502   \n",
       "\n",
       "    Persistent EPS in the Last Four Seasons   Net Value Growth Rate  \\\n",
       "0                                  0.169141                0.000327   \n",
       "1                                  0.208944                0.000443   \n",
       "2                                  0.180581                0.000396   \n",
       "3                                  0.193722                0.000382   \n",
       "4                                  0.212537                0.000439   \n",
       "\n",
       "    Total Asset Return Growth Rate Ratio   Quick Ratio  \\\n",
       "0                               0.263100      0.001208   \n",
       "1                               0.264516      0.004039   \n",
       "2                               0.264184      0.005348   \n",
       "3                               0.263371      0.002896   \n",
       "4                               0.265218      0.003727   \n",
       "\n",
       "    Interest Expense Ratio   Total debt/Total net worth  ...  \\\n",
       "0                 0.629951                     0.021266  ...   \n",
       "1                 0.635172                     0.012502  ...   \n",
       "2                 0.629631                     0.021248  ...   \n",
       "3                 0.630228                     0.009572  ...   \n",
       "4                 0.636055                     0.005150  ...   \n",
       "\n",
       "    Inventory/Working Capital   Working Capital/Equity  \\\n",
       "0                    0.276920                 0.721275   \n",
       "1                    0.289642                 0.731975   \n",
       "2                    0.277456                 0.742729   \n",
       "3                    0.276580                 0.729825   \n",
       "4                    0.287913                 0.732000   \n",
       "\n",
       "    Total income/Total expense   Total assets to GNP price  \\\n",
       "0                     0.002022                    0.009219   \n",
       "1                     0.002226                    0.008323   \n",
       "2                     0.002060                    0.040003   \n",
       "3                     0.001831                    0.003252   \n",
       "4                     0.002224                    0.003878   \n",
       "\n",
       "    No-credit Interval   Net Income to Stockholder's Equity  \\\n",
       "0             0.622879                             0.827890   \n",
       "1             0.623652                             0.839969   \n",
       "2             0.623841                             0.836774   \n",
       "3             0.622929                             0.834697   \n",
       "4             0.623521                             0.839973   \n",
       "\n",
       "    Degree of Financial Leverage (DFL)  \\\n",
       "0                             0.026601   \n",
       "1                             0.264577   \n",
       "2                             0.026555   \n",
       "3                             0.026697   \n",
       "4                             0.024752   \n",
       "\n",
       "    Interest Coverage Ratio (Interest expense to EBIT)   Equity to Liability  \\\n",
       "0                                           0.564050                0.016469   \n",
       "1                                           0.570175                0.020794   \n",
       "2                                           0.563706                0.016474   \n",
       "3                                           0.564663                0.023982   \n",
       "4                                           0.575617                0.035490   \n",
       "\n",
       "   Bankrupt?  \n",
       "0          1  \n",
       "1          1  \n",
       "2          1  \n",
       "3          1  \n",
       "4          1  \n",
       "\n",
       "[5 rows x 31 columns]"
      ]
     },
     "execution_count": 21,
     "metadata": {},
     "output_type": "execute_result"
    }
   ],
   "source": [
    "selected_col = list(feature[feature['select'] == True]['features'])\n",
    "selected_col.append('Bankrupt?')\n",
    "company_rfe = company_new[selected_col]\n",
    "company_rfe.head()"
   ]
  },
  {
   "cell_type": "markdown",
   "id": "7de95baa",
   "metadata": {},
   "source": [
    "## PART II : EXPLORATORY DATA ANALYSIS"
   ]
  },
  {
   "cell_type": "code",
   "execution_count": 29,
   "id": "9eac45de",
   "metadata": {},
   "outputs": [
    {
     "data": {
      "text/html": [
       "<div>\n",
       "<style scoped>\n",
       "    .dataframe tbody tr th:only-of-type {\n",
       "        vertical-align: middle;\n",
       "    }\n",
       "\n",
       "    .dataframe tbody tr th {\n",
       "        vertical-align: top;\n",
       "    }\n",
       "\n",
       "    .dataframe thead th {\n",
       "        text-align: right;\n",
       "    }\n",
       "</style>\n",
       "<table border=\"1\" class=\"dataframe\">\n",
       "  <thead>\n",
       "    <tr style=\"text-align: right;\">\n",
       "      <th></th>\n",
       "      <th>ROA(C) before interest and depreciation before interest</th>\n",
       "      <th>Non-industry income and expenditure/revenue</th>\n",
       "      <th>Interest-bearing debt interest rate</th>\n",
       "      <th>Net Value Per Share (B)</th>\n",
       "      <th>Persistent EPS in the Last Four Seasons</th>\n",
       "      <th>Net Value Growth Rate</th>\n",
       "      <th>Total Asset Return Growth Rate Ratio</th>\n",
       "      <th>Quick Ratio</th>\n",
       "      <th>Interest Expense Ratio</th>\n",
       "      <th>Total debt/Total net worth</th>\n",
       "      <th>...</th>\n",
       "      <th>Inventory/Working Capital</th>\n",
       "      <th>Working Capital/Equity</th>\n",
       "      <th>Total income/Total expense</th>\n",
       "      <th>Total assets to GNP price</th>\n",
       "      <th>No-credit Interval</th>\n",
       "      <th>Net Income to Stockholder's Equity</th>\n",
       "      <th>Degree of Financial Leverage (DFL)</th>\n",
       "      <th>Interest Coverage Ratio (Interest expense to EBIT)</th>\n",
       "      <th>Equity to Liability</th>\n",
       "      <th>Bankrupt?</th>\n",
       "    </tr>\n",
       "  </thead>\n",
       "  <tbody>\n",
       "    <tr>\n",
       "      <th>0</th>\n",
       "      <td>0.370594</td>\n",
       "      <td>0.302646</td>\n",
       "      <td>0.000725</td>\n",
       "      <td>0.147950</td>\n",
       "      <td>0.169141</td>\n",
       "      <td>0.000327</td>\n",
       "      <td>0.263100</td>\n",
       "      <td>0.001208</td>\n",
       "      <td>0.629951</td>\n",
       "      <td>0.021266</td>\n",
       "      <td>...</td>\n",
       "      <td>0.276920</td>\n",
       "      <td>0.721275</td>\n",
       "      <td>0.002022</td>\n",
       "      <td>0.009219</td>\n",
       "      <td>0.622879</td>\n",
       "      <td>0.827890</td>\n",
       "      <td>0.026601</td>\n",
       "      <td>0.564050</td>\n",
       "      <td>0.016469</td>\n",
       "      <td>Yes</td>\n",
       "    </tr>\n",
       "    <tr>\n",
       "      <th>1</th>\n",
       "      <td>0.464291</td>\n",
       "      <td>0.303556</td>\n",
       "      <td>0.000647</td>\n",
       "      <td>0.182251</td>\n",
       "      <td>0.208944</td>\n",
       "      <td>0.000443</td>\n",
       "      <td>0.264516</td>\n",
       "      <td>0.004039</td>\n",
       "      <td>0.635172</td>\n",
       "      <td>0.012502</td>\n",
       "      <td>...</td>\n",
       "      <td>0.289642</td>\n",
       "      <td>0.731975</td>\n",
       "      <td>0.002226</td>\n",
       "      <td>0.008323</td>\n",
       "      <td>0.623652</td>\n",
       "      <td>0.839969</td>\n",
       "      <td>0.264577</td>\n",
       "      <td>0.570175</td>\n",
       "      <td>0.020794</td>\n",
       "      <td>Yes</td>\n",
       "    </tr>\n",
       "    <tr>\n",
       "      <th>2</th>\n",
       "      <td>0.426071</td>\n",
       "      <td>0.302035</td>\n",
       "      <td>0.000790</td>\n",
       "      <td>0.177911</td>\n",
       "      <td>0.180581</td>\n",
       "      <td>0.000396</td>\n",
       "      <td>0.264184</td>\n",
       "      <td>0.005348</td>\n",
       "      <td>0.629631</td>\n",
       "      <td>0.021248</td>\n",
       "      <td>...</td>\n",
       "      <td>0.277456</td>\n",
       "      <td>0.742729</td>\n",
       "      <td>0.002060</td>\n",
       "      <td>0.040003</td>\n",
       "      <td>0.623841</td>\n",
       "      <td>0.836774</td>\n",
       "      <td>0.026555</td>\n",
       "      <td>0.563706</td>\n",
       "      <td>0.016474</td>\n",
       "      <td>Yes</td>\n",
       "    </tr>\n",
       "    <tr>\n",
       "      <th>3</th>\n",
       "      <td>0.399844</td>\n",
       "      <td>0.303350</td>\n",
       "      <td>0.000449</td>\n",
       "      <td>0.154187</td>\n",
       "      <td>0.193722</td>\n",
       "      <td>0.000382</td>\n",
       "      <td>0.263371</td>\n",
       "      <td>0.002896</td>\n",
       "      <td>0.630228</td>\n",
       "      <td>0.009572</td>\n",
       "      <td>...</td>\n",
       "      <td>0.276580</td>\n",
       "      <td>0.729825</td>\n",
       "      <td>0.001831</td>\n",
       "      <td>0.003252</td>\n",
       "      <td>0.622929</td>\n",
       "      <td>0.834697</td>\n",
       "      <td>0.026697</td>\n",
       "      <td>0.564663</td>\n",
       "      <td>0.023982</td>\n",
       "      <td>Yes</td>\n",
       "    </tr>\n",
       "    <tr>\n",
       "      <th>4</th>\n",
       "      <td>0.465022</td>\n",
       "      <td>0.303475</td>\n",
       "      <td>0.000686</td>\n",
       "      <td>0.167502</td>\n",
       "      <td>0.212537</td>\n",
       "      <td>0.000439</td>\n",
       "      <td>0.265218</td>\n",
       "      <td>0.003727</td>\n",
       "      <td>0.636055</td>\n",
       "      <td>0.005150</td>\n",
       "      <td>...</td>\n",
       "      <td>0.287913</td>\n",
       "      <td>0.732000</td>\n",
       "      <td>0.002224</td>\n",
       "      <td>0.003878</td>\n",
       "      <td>0.623521</td>\n",
       "      <td>0.839973</td>\n",
       "      <td>0.024752</td>\n",
       "      <td>0.575617</td>\n",
       "      <td>0.035490</td>\n",
       "      <td>Yes</td>\n",
       "    </tr>\n",
       "  </tbody>\n",
       "</table>\n",
       "<p>5 rows × 31 columns</p>\n",
       "</div>"
      ],
      "text/plain": [
       "    ROA(C) before interest and depreciation before interest  \\\n",
       "0                                           0.370594          \n",
       "1                                           0.464291          \n",
       "2                                           0.426071          \n",
       "3                                           0.399844          \n",
       "4                                           0.465022          \n",
       "\n",
       "    Non-industry income and expenditure/revenue  \\\n",
       "0                                      0.302646   \n",
       "1                                      0.303556   \n",
       "2                                      0.302035   \n",
       "3                                      0.303350   \n",
       "4                                      0.303475   \n",
       "\n",
       "    Interest-bearing debt interest rate   Net Value Per Share (B)  \\\n",
       "0                              0.000725                  0.147950   \n",
       "1                              0.000647                  0.182251   \n",
       "2                              0.000790                  0.177911   \n",
       "3                              0.000449                  0.154187   \n",
       "4                              0.000686                  0.167502   \n",
       "\n",
       "    Persistent EPS in the Last Four Seasons   Net Value Growth Rate  \\\n",
       "0                                  0.169141                0.000327   \n",
       "1                                  0.208944                0.000443   \n",
       "2                                  0.180581                0.000396   \n",
       "3                                  0.193722                0.000382   \n",
       "4                                  0.212537                0.000439   \n",
       "\n",
       "    Total Asset Return Growth Rate Ratio   Quick Ratio  \\\n",
       "0                               0.263100      0.001208   \n",
       "1                               0.264516      0.004039   \n",
       "2                               0.264184      0.005348   \n",
       "3                               0.263371      0.002896   \n",
       "4                               0.265218      0.003727   \n",
       "\n",
       "    Interest Expense Ratio   Total debt/Total net worth  ...  \\\n",
       "0                 0.629951                     0.021266  ...   \n",
       "1                 0.635172                     0.012502  ...   \n",
       "2                 0.629631                     0.021248  ...   \n",
       "3                 0.630228                     0.009572  ...   \n",
       "4                 0.636055                     0.005150  ...   \n",
       "\n",
       "    Inventory/Working Capital   Working Capital/Equity  \\\n",
       "0                    0.276920                 0.721275   \n",
       "1                    0.289642                 0.731975   \n",
       "2                    0.277456                 0.742729   \n",
       "3                    0.276580                 0.729825   \n",
       "4                    0.287913                 0.732000   \n",
       "\n",
       "    Total income/Total expense   Total assets to GNP price  \\\n",
       "0                     0.002022                    0.009219   \n",
       "1                     0.002226                    0.008323   \n",
       "2                     0.002060                    0.040003   \n",
       "3                     0.001831                    0.003252   \n",
       "4                     0.002224                    0.003878   \n",
       "\n",
       "    No-credit Interval   Net Income to Stockholder's Equity  \\\n",
       "0             0.622879                             0.827890   \n",
       "1             0.623652                             0.839969   \n",
       "2             0.623841                             0.836774   \n",
       "3             0.622929                             0.834697   \n",
       "4             0.623521                             0.839973   \n",
       "\n",
       "    Degree of Financial Leverage (DFL)  \\\n",
       "0                             0.026601   \n",
       "1                             0.264577   \n",
       "2                             0.026555   \n",
       "3                             0.026697   \n",
       "4                             0.024752   \n",
       "\n",
       "    Interest Coverage Ratio (Interest expense to EBIT)   Equity to Liability  \\\n",
       "0                                           0.564050                0.016469   \n",
       "1                                           0.570175                0.020794   \n",
       "2                                           0.563706                0.016474   \n",
       "3                                           0.564663                0.023982   \n",
       "4                                           0.575617                0.035490   \n",
       "\n",
       "   Bankrupt?  \n",
       "0        Yes  \n",
       "1        Yes  \n",
       "2        Yes  \n",
       "3        Yes  \n",
       "4        Yes  \n",
       "\n",
       "[5 rows x 31 columns]"
      ]
     },
     "execution_count": 29,
     "metadata": {},
     "output_type": "execute_result"
    }
   ],
   "source": [
    "company_df = company_rfe.copy()\n",
    "company_df['Bankrupt?'] = company_df['Bankrupt?'].replace({1:'Yes',0:'No'})\n",
    "company_df.head()"
   ]
  },
  {
   "cell_type": "code",
   "execution_count": 231,
   "id": "e51282e0",
   "metadata": {
    "scrolled": false
   },
   "outputs": [],
   "source": [
    "def visualize(columns_vis,quan):\n",
    "    j = 0\n",
    "    k = 0\n",
    "    fig, axes = plt.subplots(15,2,figsize=(15,100))\n",
    "    for i in range(len(columns_vis)):\n",
    "        h = company_df[company_df[columns_vis[i]] < company_df[columns_vis[i]].quantile(quan[i])]\n",
    "        if i % 2 == 0:\n",
    "            sns.boxplot(ax=axes[j][0],x='Bankrupt?',y=columns_vis[i],data=h)\n",
    "            axes[j][0].set_title(columns_vis[i] + ' with ' + str(quan[i]) + ' Quantile')\n",
    "            j = j +1\n",
    "        if i % 2 == 1:\n",
    "            sns.boxplot(ax=axes[k][1],x='Bankrupt?',y=columns_vis[i],data=h)\n",
    "            axes[k][1].set_title(columns_vis[i] + ' with ' + str(quan[i]) + ' Quantile')\n",
    "            k = k +1\n",
    "\n",
    "columns_vis = company_df.columns[:-1]\n",
    "quan = [0.75,0.001,0.75,0.75,0.75,\n",
    "       0.75,0.0007,0.75,0.00295,0.75,\n",
    "        0.75,0.01,0.75,0.75,0.75,\n",
    "       0.75,0.01,0.75,0.75,0.75,\n",
    "       0.75,0.003,0.002,0.75,0.75,\n",
    "        0.005,0.005,0.01,0.007,0.75]"
   ]
  },
  {
   "cell_type": "code",
   "execution_count": 232,
   "id": "c15ae647",
   "metadata": {
    "scrolled": false
   },
   "outputs": [
    {
     "data": {
      "image/png": "[encoded data removed]",
      "text/plain": [
       "<Figure size 1080x7200 with 30 Axes>"
      ]
     },
     "metadata": {
      "needs_background": "light"
     },
     "output_type": "display_data"
    }
   ],
   "source": [
    "visualize(columns_vis,quan)"
   ]
  },
  {
   "cell_type": "markdown",
   "id": "67ef8ef0",
   "metadata": {},
   "source": [
    "## PART III Model Development\n",
    "1. Random Forest\n",
    "2. Gradient Boosting\n",
    "3. AdaBoost"
   ]
  },
  {
   "cell_type": "code",
   "execution_count": 237,
   "id": "0e51d90c",
   "metadata": {},
   "outputs": [
    {
     "data": {
      "text/html": [
       "<div>\n",
       "<style scoped>\n",
       "    .dataframe tbody tr th:only-of-type {\n",
       "        vertical-align: middle;\n",
       "    }\n",
       "\n",
       "    .dataframe tbody tr th {\n",
       "        vertical-align: top;\n",
       "    }\n",
       "\n",
       "    .dataframe thead th {\n",
       "        text-align: right;\n",
       "    }\n",
       "</style>\n",
       "<table border=\"1\" class=\"dataframe\">\n",
       "  <thead>\n",
       "    <tr style=\"text-align: right;\">\n",
       "      <th></th>\n",
       "      <th>ROA(C) before interest and depreciation before interest</th>\n",
       "      <th>Non-industry income and expenditure/revenue</th>\n",
       "      <th>Interest-bearing debt interest rate</th>\n",
       "      <th>Net Value Per Share (B)</th>\n",
       "      <th>Persistent EPS in the Last Four Seasons</th>\n",
       "      <th>Net Value Growth Rate</th>\n",
       "      <th>Total Asset Return Growth Rate Ratio</th>\n",
       "      <th>Quick Ratio</th>\n",
       "      <th>Interest Expense Ratio</th>\n",
       "      <th>Total debt/Total net worth</th>\n",
       "      <th>...</th>\n",
       "      <th>Inventory/Working Capital</th>\n",
       "      <th>Working Capital/Equity</th>\n",
       "      <th>Total income/Total expense</th>\n",
       "      <th>Total assets to GNP price</th>\n",
       "      <th>No-credit Interval</th>\n",
       "      <th>Net Income to Stockholder's Equity</th>\n",
       "      <th>Degree of Financial Leverage (DFL)</th>\n",
       "      <th>Interest Coverage Ratio (Interest expense to EBIT)</th>\n",
       "      <th>Equity to Liability</th>\n",
       "      <th>Bankrupt?</th>\n",
       "    </tr>\n",
       "  </thead>\n",
       "  <tbody>\n",
       "    <tr>\n",
       "      <th>0</th>\n",
       "      <td>0.370594</td>\n",
       "      <td>0.302646</td>\n",
       "      <td>0.000725</td>\n",
       "      <td>0.147950</td>\n",
       "      <td>0.169141</td>\n",
       "      <td>0.000327</td>\n",
       "      <td>0.263100</td>\n",
       "      <td>0.001208</td>\n",
       "      <td>0.629951</td>\n",
       "      <td>0.021266</td>\n",
       "      <td>...</td>\n",
       "      <td>0.276920</td>\n",
       "      <td>0.721275</td>\n",
       "      <td>0.002022</td>\n",
       "      <td>0.009219</td>\n",
       "      <td>0.622879</td>\n",
       "      <td>0.827890</td>\n",
       "      <td>0.026601</td>\n",
       "      <td>0.564050</td>\n",
       "      <td>0.016469</td>\n",
       "      <td>1</td>\n",
       "    </tr>\n",
       "    <tr>\n",
       "      <th>1</th>\n",
       "      <td>0.464291</td>\n",
       "      <td>0.303556</td>\n",
       "      <td>0.000647</td>\n",
       "      <td>0.182251</td>\n",
       "      <td>0.208944</td>\n",
       "      <td>0.000443</td>\n",
       "      <td>0.264516</td>\n",
       "      <td>0.004039</td>\n",
       "      <td>0.635172</td>\n",
       "      <td>0.012502</td>\n",
       "      <td>...</td>\n",
       "      <td>0.289642</td>\n",
       "      <td>0.731975</td>\n",
       "      <td>0.002226</td>\n",
       "      <td>0.008323</td>\n",
       "      <td>0.623652</td>\n",
       "      <td>0.839969</td>\n",
       "      <td>0.264577</td>\n",
       "      <td>0.570175</td>\n",
       "      <td>0.020794</td>\n",
       "      <td>1</td>\n",
       "    </tr>\n",
       "    <tr>\n",
       "      <th>2</th>\n",
       "      <td>0.426071</td>\n",
       "      <td>0.302035</td>\n",
       "      <td>0.000790</td>\n",
       "      <td>0.177911</td>\n",
       "      <td>0.180581</td>\n",
       "      <td>0.000396</td>\n",
       "      <td>0.264184</td>\n",
       "      <td>0.005348</td>\n",
       "      <td>0.629631</td>\n",
       "      <td>0.021248</td>\n",
       "      <td>...</td>\n",
       "      <td>0.277456</td>\n",
       "      <td>0.742729</td>\n",
       "      <td>0.002060</td>\n",
       "      <td>0.040003</td>\n",
       "      <td>0.623841</td>\n",
       "      <td>0.836774</td>\n",
       "      <td>0.026555</td>\n",
       "      <td>0.563706</td>\n",
       "      <td>0.016474</td>\n",
       "      <td>1</td>\n",
       "    </tr>\n",
       "    <tr>\n",
       "      <th>3</th>\n",
       "      <td>0.399844</td>\n",
       "      <td>0.303350</td>\n",
       "      <td>0.000449</td>\n",
       "      <td>0.154187</td>\n",
       "      <td>0.193722</td>\n",
       "      <td>0.000382</td>\n",
       "      <td>0.263371</td>\n",
       "      <td>0.002896</td>\n",
       "      <td>0.630228</td>\n",
       "      <td>0.009572</td>\n",
       "      <td>...</td>\n",
       "      <td>0.276580</td>\n",
       "      <td>0.729825</td>\n",
       "      <td>0.001831</td>\n",
       "      <td>0.003252</td>\n",
       "      <td>0.622929</td>\n",
       "      <td>0.834697</td>\n",
       "      <td>0.026697</td>\n",
       "      <td>0.564663</td>\n",
       "      <td>0.023982</td>\n",
       "      <td>1</td>\n",
       "    </tr>\n",
       "    <tr>\n",
       "      <th>4</th>\n",
       "      <td>0.465022</td>\n",
       "      <td>0.303475</td>\n",
       "      <td>0.000686</td>\n",
       "      <td>0.167502</td>\n",
       "      <td>0.212537</td>\n",
       "      <td>0.000439</td>\n",
       "      <td>0.265218</td>\n",
       "      <td>0.003727</td>\n",
       "      <td>0.636055</td>\n",
       "      <td>0.005150</td>\n",
       "      <td>...</td>\n",
       "      <td>0.287913</td>\n",
       "      <td>0.732000</td>\n",
       "      <td>0.002224</td>\n",
       "      <td>0.003878</td>\n",
       "      <td>0.623521</td>\n",
       "      <td>0.839973</td>\n",
       "      <td>0.024752</td>\n",
       "      <td>0.575617</td>\n",
       "      <td>0.035490</td>\n",
       "      <td>1</td>\n",
       "    </tr>\n",
       "  </tbody>\n",
       "</table>\n",
       "<p>5 rows × 31 columns</p>\n",
       "</div>"
      ],
      "text/plain": [
       "    ROA(C) before interest and depreciation before interest  \\\n",
       "0                                           0.370594          \n",
       "1                                           0.464291          \n",
       "2                                           0.426071          \n",
       "3                                           0.399844          \n",
       "4                                           0.465022          \n",
       "\n",
       "    Non-industry income and expenditure/revenue  \\\n",
       "0                                      0.302646   \n",
       "1                                      0.303556   \n",
       "2                                      0.302035   \n",
       "3                                      0.303350   \n",
       "4                                      0.303475   \n",
       "\n",
       "    Interest-bearing debt interest rate   Net Value Per Share (B)  \\\n",
       "0                              0.000725                  0.147950   \n",
       "1                              0.000647                  0.182251   \n",
       "2                              0.000790                  0.177911   \n",
       "3                              0.000449                  0.154187   \n",
       "4                              0.000686                  0.167502   \n",
       "\n",
       "    Persistent EPS in the Last Four Seasons   Net Value Growth Rate  \\\n",
       "0                                  0.169141                0.000327   \n",
       "1                                  0.208944                0.000443   \n",
       "2                                  0.180581                0.000396   \n",
       "3                                  0.193722                0.000382   \n",
       "4                                  0.212537                0.000439   \n",
       "\n",
       "    Total Asset Return Growth Rate Ratio   Quick Ratio  \\\n",
       "0                               0.263100      0.001208   \n",
       "1                               0.264516      0.004039   \n",
       "2                               0.264184      0.005348   \n",
       "3                               0.263371      0.002896   \n",
       "4                               0.265218      0.003727   \n",
       "\n",
       "    Interest Expense Ratio   Total debt/Total net worth  ...  \\\n",
       "0                 0.629951                     0.021266  ...   \n",
       "1                 0.635172                     0.012502  ...   \n",
       "2                 0.629631                     0.021248  ...   \n",
       "3                 0.630228                     0.009572  ...   \n",
       "4                 0.636055                     0.005150  ...   \n",
       "\n",
       "    Inventory/Working Capital   Working Capital/Equity  \\\n",
       "0                    0.276920                 0.721275   \n",
       "1                    0.289642                 0.731975   \n",
       "2                    0.277456                 0.742729   \n",
       "3                    0.276580                 0.729825   \n",
       "4                    0.287913                 0.732000   \n",
       "\n",
       "    Total income/Total expense   Total assets to GNP price  \\\n",
       "0                     0.002022                    0.009219   \n",
       "1                     0.002226                    0.008323   \n",
       "2                     0.002060                    0.040003   \n",
       "3                     0.001831                    0.003252   \n",
       "4                     0.002224                    0.003878   \n",
       "\n",
       "    No-credit Interval   Net Income to Stockholder's Equity  \\\n",
       "0             0.622879                             0.827890   \n",
       "1             0.623652                             0.839969   \n",
       "2             0.623841                             0.836774   \n",
       "3             0.622929                             0.834697   \n",
       "4             0.623521                             0.839973   \n",
       "\n",
       "    Degree of Financial Leverage (DFL)  \\\n",
       "0                             0.026601   \n",
       "1                             0.264577   \n",
       "2                             0.026555   \n",
       "3                             0.026697   \n",
       "4                             0.024752   \n",
       "\n",
       "    Interest Coverage Ratio (Interest expense to EBIT)   Equity to Liability  \\\n",
       "0                                           0.564050                0.016469   \n",
       "1                                           0.570175                0.020794   \n",
       "2                                           0.563706                0.016474   \n",
       "3                                           0.564663                0.023982   \n",
       "4                                           0.575617                0.035490   \n",
       "\n",
       "   Bankrupt?  \n",
       "0          1  \n",
       "1          1  \n",
       "2          1  \n",
       "3          1  \n",
       "4          1  \n",
       "\n",
       "[5 rows x 31 columns]"
      ]
     },
     "execution_count": 237,
     "metadata": {},
     "output_type": "execute_result"
    }
   ],
   "source": [
    "company_df['Bankrupt?'] = company_df['Bankrupt?'].replace({'Yes':1,'No':2})\n",
    "company_df.head()"
   ]
  },
  {
   "cell_type": "code",
   "execution_count": 316,
   "id": "7de61826",
   "metadata": {},
   "outputs": [],
   "source": [
    "X = company_df.drop('Bankrupt?',axis=1)\n",
    "y = company_df['Bankrupt?']\n",
    "\n",
    "X_train, X_test, y_train, y_test = train_test_split(X,y,test_size=0.3)"
   ]
  },
  {
   "cell_type": "markdown",
   "id": "a26315f0",
   "metadata": {},
   "source": [
    "#### RANDOM FOREST"
   ]
  },
  {
   "cell_type": "code",
   "execution_count": 317,
   "id": "6a953c06",
   "metadata": {},
   "outputs": [
    {
     "data": {
      "text/plain": [
       "RandomForestClassifier(random_state=41)"
      ]
     },
     "execution_count": 317,
     "metadata": {},
     "output_type": "execute_result"
    }
   ],
   "source": [
    "rf = RandomForestClassifier(n_estimators=100,random_state=41)\n",
    "rf.fit(X_train,y_train)"
   ]
  },
  {
   "cell_type": "code",
   "execution_count": 318,
   "id": "ec4e9866",
   "metadata": {},
   "outputs": [
    {
     "name": "stdout",
     "output_type": "stream",
     "text": [
      "              precision    recall  f1-score   support\n",
      "\n",
      "           1       0.48      0.20      0.29        64\n",
      "           2       0.97      0.99      0.98      1982\n",
      "\n",
      "    accuracy                           0.97      2046\n",
      "   macro avg       0.73      0.60      0.63      2046\n",
      "weighted avg       0.96      0.97      0.96      2046\n",
      "\n",
      "ROC AUC SCORE : 0.9216779137235116\n"
     ]
    },
    {
     "name": "stderr",
     "output_type": "stream",
     "text": [
      "C:\\Users\\warintorn.nawong13\\anaconda3\\lib\\site-packages\\sklearn\\base.py:450: UserWarning: X does not have valid feature names, but RandomForestClassifier was fitted with feature names\n",
      "  warnings.warn(\n"
     ]
    }
   ],
   "source": [
    "rf_pred = rf.predict(X_test)\n",
    "rf_pred_prob = rf.predict_proba(np.array(X_test.values))[:,1]\n",
    "print(classification_report(y_test,rf_pred))\n",
    "print(\"ROC AUC SCORE :\",format(roc_auc_score(y_test,rf_pred_prob)))"
   ]
  },
  {
   "cell_type": "markdown",
   "id": "838cb218",
   "metadata": {},
   "source": [
    "### GRADIENT BOOSTING"
   ]
  },
  {
   "cell_type": "code",
   "execution_count": 319,
   "id": "3bdaeab2",
   "metadata": {},
   "outputs": [
    {
     "data": {
      "text/plain": [
       "GradientBoostingClassifier(random_state=41)"
      ]
     },
     "execution_count": 319,
     "metadata": {},
     "output_type": "execute_result"
    }
   ],
   "source": [
    "gb = GradientBoostingClassifier(n_estimators=100,random_state=41)\n",
    "gb.fit(X_train,y_train)"
   ]
  },
  {
   "cell_type": "code",
   "execution_count": 320,
   "id": "9a258bd8",
   "metadata": {},
   "outputs": [
    {
     "name": "stdout",
     "output_type": "stream",
     "text": [
      "              precision    recall  f1-score   support\n",
      "\n",
      "           1       0.42      0.25      0.31        64\n",
      "           2       0.98      0.99      0.98      1982\n",
      "\n",
      "    accuracy                           0.97      2046\n",
      "   macro avg       0.70      0.62      0.65      2046\n",
      "weighted avg       0.96      0.97      0.96      2046\n",
      "\n",
      "ROC AUC SCORE : 0.9245869071644803\n"
     ]
    },
    {
     "name": "stderr",
     "output_type": "stream",
     "text": [
      "C:\\Users\\warintorn.nawong13\\anaconda3\\lib\\site-packages\\sklearn\\base.py:450: UserWarning: X does not have valid feature names, but GradientBoostingClassifier was fitted with feature names\n",
      "  warnings.warn(\n"
     ]
    }
   ],
   "source": [
    "gb_pred = gb.predict(X_test)\n",
    "gb_pred_prob = gb.predict_proba(np.array(X_test.values))[:,1]\n",
    "print(classification_report(y_test,gb_pred))\n",
    "print(\"ROC AUC SCORE :\",format(roc_auc_score(y_test,gb_pred_prob)))"
   ]
  },
  {
   "cell_type": "markdown",
   "id": "580cf8d1",
   "metadata": {},
   "source": [
    "## ADABOOST"
   ]
  },
  {
   "cell_type": "code",
   "execution_count": 270,
   "id": "e7856b2e",
   "metadata": {},
   "outputs": [
    {
     "data": {
      "text/plain": [
       "AdaBoostClassifier(n_estimators=100, random_state=41)"
      ]
     },
     "execution_count": 270,
     "metadata": {},
     "output_type": "execute_result"
    }
   ],
   "source": [
    "ada = AdaBoostClassifier(n_estimators=100,random_state=41)\n",
    "ada.fit(X_train,y_train)"
   ]
  },
  {
   "cell_type": "code",
   "execution_count": 272,
   "id": "cc66461f",
   "metadata": {},
   "outputs": [
    {
     "name": "stdout",
     "output_type": "stream",
     "text": [
      "              precision    recall  f1-score   support\n",
      "\n",
      "           1       0.60      0.37      0.45        68\n",
      "           2       0.98      0.99      0.98      1978\n",
      "\n",
      "    accuracy                           0.97      2046\n",
      "   macro avg       0.79      0.68      0.72      2046\n",
      "weighted avg       0.97      0.97      0.97      2046\n",
      "\n",
      "ROC AUC SCORE : 0.9363364658300124\n"
     ]
    },
    {
     "name": "stderr",
     "output_type": "stream",
     "text": [
      "C:\\Users\\warintorn.nawong13\\anaconda3\\lib\\site-packages\\sklearn\\base.py:450: UserWarning: X does not have valid feature names, but AdaBoostClassifier was fitted with feature names\n",
      "  warnings.warn(\n"
     ]
    }
   ],
   "source": [
    "ada_pred = ada.predict(X_test)\n",
    "ada_pred_prob = ada.predict_proba(np.array(X_test.values))[:,1]\n",
    "print(classification_report(y_test,ada_pred))\n",
    "print(\"ROC AUC SCORE :\",format(roc_auc_score(y_test,ada_pred_prob)))"
   ]
  },
  {
   "cell_type": "markdown",
   "id": "b2e1694a",
   "metadata": {},
   "source": [
    "## PART IV : OVERSAMPLING"
   ]
  },
  {
   "cell_type": "code",
   "execution_count": 285,
   "id": "ba886d8a",
   "metadata": {},
   "outputs": [
    {
     "data": {
      "text/plain": [
       "2    4630\n",
       "1     143\n",
       "Name: Bankrupt?, dtype: int64"
      ]
     },
     "execution_count": 285,
     "metadata": {},
     "output_type": "execute_result"
    }
   ],
   "source": [
    "X = company_df.drop('Bankrupt?',axis=1)\n",
    "y = company_df['Bankrupt?']\n",
    "\n",
    "X_train, X_test, y_train, y_test = train_test_split(X,y,test_size=0.3)\n",
    "y_train.value_counts()"
   ]
  },
  {
   "cell_type": "markdown",
   "id": "517435de",
   "metadata": {},
   "source": [
    "According to impbalance dataset, we would generate the dataset of minority class/label to reach the majorority class to test whether it help precision and recall of model."
   ]
  },
  {
   "cell_type": "code",
   "execution_count": 286,
   "id": "1642f758",
   "metadata": {},
   "outputs": [
    {
     "data": {
      "text/plain": [
       "2    4630\n",
       "1    4630\n",
       "Name: Bankrupt?, dtype: int64"
      ]
     },
     "execution_count": 286,
     "metadata": {},
     "output_type": "execute_result"
    }
   ],
   "source": [
    "sm = SMOTE()\n",
    "X_resampled, y_resampled = sm.fit_resample(X_train,y_train)\n",
    "y_resampled.value_counts()"
   ]
  },
  {
   "cell_type": "markdown",
   "id": "87b9729a",
   "metadata": {},
   "source": [
    "### RANDOM FOREST + OVERSAMPLING"
   ]
  },
  {
   "cell_type": "code",
   "execution_count": 288,
   "id": "88f3a6ae",
   "metadata": {},
   "outputs": [
    {
     "data": {
      "text/plain": [
       "RandomForestClassifier(random_state=41)"
      ]
     },
     "execution_count": 288,
     "metadata": {},
     "output_type": "execute_result"
    }
   ],
   "source": [
    "rf = RandomForestClassifier(n_estimators=100,random_state=41)\n",
    "rf.fit(X_resampled,y_resampled)"
   ]
  },
  {
   "cell_type": "code",
   "execution_count": 291,
   "id": "b6a16935",
   "metadata": {},
   "outputs": [
    {
     "name": "stdout",
     "output_type": "stream",
     "text": [
      "              precision    recall  f1-score   support\n",
      "\n",
      "           1       0.37      0.58      0.45        77\n",
      "           2       0.98      0.96      0.97      1969\n",
      "\n",
      "    accuracy                           0.95      2046\n",
      "   macro avg       0.68      0.77      0.71      2046\n",
      "weighted avg       0.96      0.95      0.95      2046\n",
      "\n",
      "ROC AUC SCORE : 0.9272555783475032\n"
     ]
    },
    {
     "name": "stderr",
     "output_type": "stream",
     "text": [
      "C:\\Users\\warintorn.nawong13\\anaconda3\\lib\\site-packages\\sklearn\\base.py:450: UserWarning: X does not have valid feature names, but RandomForestClassifier was fitted with feature names\n",
      "  warnings.warn(\n"
     ]
    }
   ],
   "source": [
    "rf_pred_resampled = rf.predict(X_test)\n",
    "rf_pred_prob_resampled = rf.predict_proba(np.array(X_test.values))[:,1]\n",
    "print(classification_report(y_test,rf_pred_resampled))\n",
    "print(\"ROC AUC SCORE :\",format(roc_auc_score(y_test,rf_pred_prob_resampled)))"
   ]
  },
  {
   "cell_type": "markdown",
   "id": "5fb4aa11",
   "metadata": {},
   "source": [
    "### GRADIENT BOOSTING + OVERSAMPLING"
   ]
  },
  {
   "cell_type": "code",
   "execution_count": 292,
   "id": "853d5146",
   "metadata": {},
   "outputs": [
    {
     "data": {
      "text/plain": [
       "GradientBoostingClassifier(random_state=41)"
      ]
     },
     "execution_count": 292,
     "metadata": {},
     "output_type": "execute_result"
    }
   ],
   "source": [
    "gb = GradientBoostingClassifier(n_estimators=100,random_state=41)\n",
    "gb.fit(X_train,y_train)"
   ]
  },
  {
   "cell_type": "code",
   "execution_count": 295,
   "id": "5f87cbd6",
   "metadata": {},
   "outputs": [
    {
     "name": "stdout",
     "output_type": "stream",
     "text": [
      "              precision    recall  f1-score   support\n",
      "\n",
      "           1       0.57      0.30      0.39        77\n",
      "           2       0.97      0.99      0.98      1969\n",
      "\n",
      "    accuracy                           0.97      2046\n",
      "   macro avg       0.77      0.65      0.69      2046\n",
      "weighted avg       0.96      0.97      0.96      2046\n",
      "\n",
      "ROC AUC SCORE : 0.9316615329820002\n"
     ]
    },
    {
     "name": "stderr",
     "output_type": "stream",
     "text": [
      "C:\\Users\\warintorn.nawong13\\anaconda3\\lib\\site-packages\\sklearn\\base.py:450: UserWarning: X does not have valid feature names, but GradientBoostingClassifier was fitted with feature names\n",
      "  warnings.warn(\n"
     ]
    }
   ],
   "source": [
    "gb_pred_resampled = gb.predict(X_test)\n",
    "gb_pred_prob_resampled = gb.predict_proba(np.array(X_test.values))[:,1]\n",
    "print(classification_report(y_test,gb_pred_resampled))\n",
    "print(\"ROC AUC SCORE :\",format(roc_auc_score(y_test,gb_pred_prob_resampled)))"
   ]
  },
  {
   "cell_type": "markdown",
   "id": "4e7ea4ff",
   "metadata": {},
   "source": [
    "## ADABOOST + OVERSAMPLING"
   ]
  },
  {
   "cell_type": "code",
   "execution_count": 296,
   "id": "03864f8c",
   "metadata": {},
   "outputs": [
    {
     "data": {
      "text/plain": [
       "AdaBoostClassifier(n_estimators=100, random_state=41)"
      ]
     },
     "execution_count": 296,
     "metadata": {},
     "output_type": "execute_result"
    }
   ],
   "source": [
    "ada = AdaBoostClassifier(n_estimators=100,random_state=41)\n",
    "ada.fit(X_train,y_train)"
   ]
  },
  {
   "cell_type": "code",
   "execution_count": 297,
   "id": "07ab6849",
   "metadata": {},
   "outputs": [
    {
     "name": "stdout",
     "output_type": "stream",
     "text": [
      "              precision    recall  f1-score   support\n",
      "\n",
      "           1       0.46      0.29      0.35        77\n",
      "           2       0.97      0.99      0.98      1969\n",
      "\n",
      "    accuracy                           0.96      2046\n",
      "   macro avg       0.72      0.64      0.67      2046\n",
      "weighted avg       0.95      0.96      0.96      2046\n",
      "\n",
      "ROC AUC SCORE : 0.9260023876580505\n"
     ]
    },
    {
     "name": "stderr",
     "output_type": "stream",
     "text": [
      "C:\\Users\\warintorn.nawong13\\anaconda3\\lib\\site-packages\\sklearn\\base.py:450: UserWarning: X does not have valid feature names, but AdaBoostClassifier was fitted with feature names\n",
      "  warnings.warn(\n"
     ]
    }
   ],
   "source": [
    "ada_pred_resampled = ada.predict(X_test)\n",
    "ada_pred_prob_resampled = ada.predict_proba(np.array(X_test.values))[:,1]\n",
    "print(classification_report(y_test,ada_pred_resampled))\n",
    "print(\"ROC AUC SCORE :\",format(roc_auc_score(y_test,ada_pred_prob_resampled)))"
   ]
  },
  {
   "cell_type": "markdown",
   "id": "332420c2",
   "metadata": {},
   "source": [
    "## PART V : HYPERPARAMETER TUNING\n",
    "\n",
    "#### RANDOM FOREST + OVERSAMPLING + FINETUNING with \"ROC_AUC_SCORE\""
   ]
  },
  {
   "cell_type": "code",
   "execution_count": 303,
   "id": "8e688ad0",
   "metadata": {},
   "outputs": [
    {
     "name": "stdout",
     "output_type": "stream",
     "text": [
      "RandomForestClassifier(max_depth=4, n_estimators=200)\n"
     ]
    }
   ],
   "source": [
    "rf_param_grid = {'criterion' : ['gini','entropy'],\n",
    "                 'n_estimators': [80,100,200],\n",
    "                 'max_depth': [1,2,4]}\n",
    "\n",
    "rf_grid = GridSearchCV(RandomForestClassifier(),param_grid = rf_param_grid,cv=4,scoring='roc_auc')\n",
    "rf_grid.fit(X_resampled,y_resampled)\n",
    "print(rf_grid.best_estimator_)"
   ]
  },
  {
   "cell_type": "code",
   "execution_count": 304,
   "id": "241761b0",
   "metadata": {},
   "outputs": [
    {
     "name": "stdout",
     "output_type": "stream",
     "text": [
      "              precision    recall  f1-score   support\n",
      "\n",
      "           1       0.23      0.77      0.35        77\n",
      "           2       0.99      0.90      0.94      1969\n",
      "\n",
      "    accuracy                           0.89      2046\n",
      "   macro avg       0.61      0.83      0.65      2046\n",
      "weighted avg       0.96      0.89      0.92      2046\n",
      "\n",
      "ROC AUC SCORE : 0.9237334529360939\n"
     ]
    },
    {
     "name": "stderr",
     "output_type": "stream",
     "text": [
      "C:\\Users\\warintorn.nawong13\\anaconda3\\lib\\site-packages\\sklearn\\base.py:450: UserWarning: X does not have valid feature names, but RandomForestClassifier was fitted with feature names\n",
      "  warnings.warn(\n"
     ]
    }
   ],
   "source": [
    "best_rf = rf_grid.best_estimator_.fit(X_resampled, y_resampled)\n",
    "pred_df = best_rf.predict(X_test)\n",
    "prob_rf = best_rf.predict_proba(np.array(X_test.values))[:,1]\n",
    "\n",
    "print(classification_report(y_test,pred_df))\n",
    "print(\"ROC AUC SCORE :\",format(roc_auc_score(y_test,prob_rf )))"
   ]
  },
  {
   "cell_type": "markdown",
   "id": "c60712e4",
   "metadata": {},
   "source": [
    "#### GradientBoosting + OVERSAMPLING + FINETUNING with \"ROC_AUC_SCORE\""
   ]
  },
  {
   "cell_type": "code",
   "execution_count": 305,
   "id": "d90f1d4a",
   "metadata": {},
   "outputs": [
    {
     "name": "stdout",
     "output_type": "stream",
     "text": [
      "GradientBoostingClassifier(max_depth=5, n_estimators=500)\n"
     ]
    }
   ],
   "source": [
    "## Fine Tune Model + Oversampling Technique\n",
    "gb_param_grid = {'loss' : ['deviance'],\n",
    "                 'n_estimators': [10,100,200,500],\n",
    "                 'max_depth': [1,2,4,5]}\n",
    "gb_grid = GridSearchCV(GradientBoostingClassifier(),param_grid = gb_param_grid,cv=4,scoring='roc_auc')\n",
    "gb_grid.fit(X_resampled,y_resampled)\n",
    "print(gb_grid.best_estimator_)"
   ]
  },
  {
   "cell_type": "code",
   "execution_count": 306,
   "id": "5dab03a2",
   "metadata": {},
   "outputs": [
    {
     "name": "stdout",
     "output_type": "stream",
     "text": [
      "              precision    recall  f1-score   support\n",
      "\n",
      "           1       0.39      0.48      0.43        77\n",
      "           2       0.98      0.97      0.97      1969\n",
      "\n",
      "    accuracy                           0.95      2046\n",
      "   macro avg       0.68      0.73      0.70      2046\n",
      "weighted avg       0.96      0.95      0.95      2046\n",
      "\n",
      "ROC AUC SCORE : 0.9262332385745288\n"
     ]
    },
    {
     "name": "stderr",
     "output_type": "stream",
     "text": [
      "C:\\Users\\warintorn.nawong13\\anaconda3\\lib\\site-packages\\sklearn\\base.py:450: UserWarning: X does not have valid feature names, but GradientBoostingClassifier was fitted with feature names\n",
      "  warnings.warn(\n"
     ]
    }
   ],
   "source": [
    "best_gb = gb_grid.best_estimator_.fit(X_resampled, y_resampled)\n",
    "pred_gb = best_gb.predict(X_test)\n",
    "prob_gb = best_gb.predict_proba(np.array(X_test.values))[:,1]\n",
    "\n",
    "print(classification_report(y_test,pred_gb))\n",
    "print(\"ROC AUC SCORE :\",format(roc_auc_score(y_test,prob_gb )))"
   ]
  },
  {
   "cell_type": "markdown",
   "id": "6dee749f",
   "metadata": {},
   "source": [
    "#### ADABoost + OVERSAMPLING + FINETUNING with \"ROC_AUC_SCORE\""
   ]
  },
  {
   "cell_type": "code",
   "execution_count": 307,
   "id": "50dd0be7",
   "metadata": {},
   "outputs": [
    {
     "name": "stdout",
     "output_type": "stream",
     "text": [
      "AdaBoostClassifier(learning_rate=0.01, n_estimators=100)\n"
     ]
    }
   ],
   "source": [
    "ABC_param_grid = {\"n_estimators\" :[10,50,100],\n",
    "                  \"learning_rate\":  [0.001, 0.01]}\n",
    "ada_grid = GridSearchCV(AdaBoostClassifier(),param_grid = ABC_param_grid,cv=4,scoring='roc_auc')\n",
    "ada_grid.fit(X_resampled,y_resampled)\n",
    "print(ada_grid.best_estimator_)"
   ]
  },
  {
   "cell_type": "code",
   "execution_count": 308,
   "id": "d5484764",
   "metadata": {},
   "outputs": [
    {
     "name": "stdout",
     "output_type": "stream",
     "text": [
      "              precision    recall  f1-score   support\n",
      "\n",
      "           1       0.22      0.68      0.33        77\n",
      "           2       0.99      0.91      0.94      1969\n",
      "\n",
      "    accuracy                           0.90      2046\n",
      "   macro avg       0.60      0.79      0.64      2046\n",
      "weighted avg       0.96      0.90      0.92      2046\n",
      "\n",
      "ROC AUC SCORE : 0.9003977231503895\n"
     ]
    },
    {
     "name": "stderr",
     "output_type": "stream",
     "text": [
      "C:\\Users\\warintorn.nawong13\\anaconda3\\lib\\site-packages\\sklearn\\base.py:450: UserWarning: X does not have valid feature names, but AdaBoostClassifier was fitted with feature names\n",
      "  warnings.warn(\n"
     ]
    }
   ],
   "source": [
    "best_ada = ada_grid.best_estimator_.fit(X_resampled, y_resampled)\n",
    "pred_ada = best_ada.predict(X_test)\n",
    "prob_ada = best_ada.predict_proba(np.array(X_test.values))[:,1]\n",
    "\n",
    "print(classification_report(y_test,pred_ada))\n",
    "print(\"ROC AUC SCORE :\",format(roc_auc_score(y_test,prob_ada)))"
   ]
  },
  {
   "cell_type": "markdown",
   "id": "61997f79",
   "metadata": {},
   "source": [
    "#### RANDOM FOREST + OVERSAMPLING + FINETUNING with \"F1_SCORE\""
   ]
  },
  {
   "cell_type": "code",
   "execution_count": 321,
   "id": "5abbb3db",
   "metadata": {},
   "outputs": [
    {
     "name": "stdout",
     "output_type": "stream",
     "text": [
      "RandomForestClassifier(max_depth=4)\n"
     ]
    }
   ],
   "source": [
    "rf_param_grid = {'criterion' : ['gini','entropy'],\n",
    "                 'n_estimators': [80,100,200],\n",
    "                 'max_depth': [1,2,4]}\n",
    "\n",
    "rf_grid = GridSearchCV(RandomForestClassifier(),param_grid = rf_param_grid,cv=4,scoring='f1')\n",
    "rf_grid.fit(X_resampled,y_resampled)\n",
    "print(rf_grid.best_estimator_)"
   ]
  },
  {
   "cell_type": "code",
   "execution_count": 322,
   "id": "2909317f",
   "metadata": {},
   "outputs": [
    {
     "name": "stdout",
     "output_type": "stream",
     "text": [
      "              precision    recall  f1-score   support\n",
      "\n",
      "           1       0.20      0.86      0.32        64\n",
      "           2       0.99      0.89      0.94      1982\n",
      "\n",
      "    accuracy                           0.89      2046\n",
      "   macro avg       0.60      0.87      0.63      2046\n",
      "weighted avg       0.97      0.89      0.92      2046\n",
      "\n",
      "ROC AUC SCORE : 0.9418792570635721\n"
     ]
    },
    {
     "name": "stderr",
     "output_type": "stream",
     "text": [
      "C:\\Users\\warintorn.nawong13\\anaconda3\\lib\\site-packages\\sklearn\\base.py:450: UserWarning: X does not have valid feature names, but RandomForestClassifier was fitted with feature names\n",
      "  warnings.warn(\n"
     ]
    }
   ],
   "source": [
    "best_rf = rf_grid.best_estimator_.fit(X_resampled, y_resampled)\n",
    "pred_df = best_rf.predict(X_test)\n",
    "prob_rf = best_rf.predict_proba(np.array(X_test.values))[:,1]\n",
    "\n",
    "print(classification_report(y_test,pred_df))\n",
    "print(\"ROC AUC SCORE :\",format(roc_auc_score(y_test,prob_rf )))"
   ]
  },
  {
   "cell_type": "markdown",
   "id": "ca156c57",
   "metadata": {},
   "source": [
    "#### GradientBoosting + OVERSAMPLING + FINETUNING with \"F1_SCORE\""
   ]
  },
  {
   "cell_type": "code",
   "execution_count": 324,
   "id": "5ee54a8f",
   "metadata": {},
   "outputs": [
    {
     "name": "stdout",
     "output_type": "stream",
     "text": [
      "GradientBoostingClassifier(max_depth=5, n_estimators=500)\n"
     ]
    }
   ],
   "source": [
    "## Fine Tune Model + Oversampling Technique\n",
    "gb_param_grid = {'loss' : ['deviance'],\n",
    "                 'n_estimators': [10,100,200,500],\n",
    "                 'max_depth': [1,2,4,5]}\n",
    "gb_grid = GridSearchCV(GradientBoostingClassifier(),param_grid = gb_param_grid,cv=4,scoring='f1')\n",
    "gb_grid.fit(X_resampled,y_resampled)\n",
    "print(gb_grid.best_estimator_)"
   ]
  },
  {
   "cell_type": "code",
   "execution_count": 325,
   "id": "9119f00e",
   "metadata": {},
   "outputs": [
    {
     "name": "stdout",
     "output_type": "stream",
     "text": [
      "              precision    recall  f1-score   support\n",
      "\n",
      "           1       0.76      0.83      0.79        64\n",
      "           2       0.99      0.99      0.99      1982\n",
      "\n",
      "    accuracy                           0.99      2046\n",
      "   macro avg       0.88      0.91      0.89      2046\n",
      "weighted avg       0.99      0.99      0.99      2046\n",
      "\n",
      "ROC AUC SCORE : 0.9800469853683149\n"
     ]
    },
    {
     "name": "stderr",
     "output_type": "stream",
     "text": [
      "C:\\Users\\warintorn.nawong13\\anaconda3\\lib\\site-packages\\sklearn\\base.py:450: UserWarning: X does not have valid feature names, but GradientBoostingClassifier was fitted with feature names\n",
      "  warnings.warn(\n"
     ]
    }
   ],
   "source": [
    "best_gb = gb_grid.best_estimator_.fit(X_resampled, y_resampled)\n",
    "pred_gb = best_gb.predict(X_test)\n",
    "prob_gb = best_gb.predict_proba(np.array(X_test.values))[:,1]\n",
    "\n",
    "print(classification_report(y_test,pred_gb))\n",
    "print(\"ROC AUC SCORE :\",format(roc_auc_score(y_test,prob_gb )))"
   ]
  },
  {
   "cell_type": "markdown",
   "id": "8683dc91",
   "metadata": {},
   "source": [
    "#### ADABoost + OVERSAMPLING + FINETUNING with \"F1_SCORE\""
   ]
  },
  {
   "cell_type": "code",
   "execution_count": 326,
   "id": "2a5a25c1",
   "metadata": {},
   "outputs": [
    {
     "name": "stdout",
     "output_type": "stream",
     "text": [
      "AdaBoostClassifier(learning_rate=0.01, n_estimators=100)\n"
     ]
    }
   ],
   "source": [
    "ABC_param_grid = {\"n_estimators\" :[10,50,100],\n",
    "                  \"learning_rate\":  [0.001, 0.01]}\n",
    "ada_grid = GridSearchCV(AdaBoostClassifier(),param_grid = ABC_param_grid,cv=4,scoring='f1')\n",
    "ada_grid.fit(X_resampled,y_resampled)\n",
    "print(ada_grid.best_estimator_)"
   ]
  },
  {
   "cell_type": "code",
   "execution_count": 327,
   "id": "c0716bea",
   "metadata": {},
   "outputs": [
    {
     "name": "stdout",
     "output_type": "stream",
     "text": [
      "              precision    recall  f1-score   support\n",
      "\n",
      "           1       0.18      0.78      0.30        64\n",
      "           2       0.99      0.89      0.94      1982\n",
      "\n",
      "    accuracy                           0.89      2046\n",
      "   macro avg       0.59      0.83      0.62      2046\n",
      "weighted avg       0.97      0.89      0.92      2046\n",
      "\n",
      "ROC AUC SCORE : 0.9254895623107972\n"
     ]
    },
    {
     "name": "stderr",
     "output_type": "stream",
     "text": [
      "C:\\Users\\warintorn.nawong13\\anaconda3\\lib\\site-packages\\sklearn\\base.py:450: UserWarning: X does not have valid feature names, but AdaBoostClassifier was fitted with feature names\n",
      "  warnings.warn(\n"
     ]
    }
   ],
   "source": [
    "best_ada = ada_grid.best_estimator_.fit(X_resampled, y_resampled)\n",
    "pred_ada = best_ada.predict(X_test)\n",
    "prob_ada = best_ada.predict_proba(np.array(X_test.values))[:,1]\n",
    "\n",
    "print(classification_report(y_test,pred_ada))\n",
    "print(\"ROC AUC SCORE :\",format(roc_auc_score(y_test,prob_ada)))"
   ]
  }
 ],
 "metadata": {
  "kernelspec": {
   "display_name": "Python 3 (ipykernel)",
   "language": "python",
   "name": "python3"
  },
  "language_info": {
   "codemirror_mode": {
    "name": "ipython",
    "version": 3
   },
   "file_extension": ".py",
   "mimetype": "text/x-python",
   "name": "python",
   "nbconvert_exporter": "python",
   "pygments_lexer": "ipython3",
   "version": "3.9.7"
  }
 },
 "nbformat": 4,
 "nbformat_minor": 5
}
