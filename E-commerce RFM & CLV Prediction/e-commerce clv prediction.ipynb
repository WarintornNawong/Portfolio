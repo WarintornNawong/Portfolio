{
 "cells": [
  {
   "cell_type": "code",
   "execution_count": 257,
   "id": "5f0a100f",
   "metadata": {},
   "outputs": [],
   "source": [
    "import pandas as pd\n",
    "import numpy as np\n",
    "import seaborn as sns\n",
    "import matplotlib.pyplot as plt\n",
    "import datetime as dt\n",
    "from datetime import timedelta\n",
    "\n",
    "from sklearn.metrics import mean_squared_error\n",
    "from mpl_toolkits.mplot3d import Axes3D\n",
    "\n",
    "from lifetimes.utils import summary_data_from_transaction_data,calibration_and_holdout_data\n",
    "from lifetimes import BetaGeoFitter, GammaGammaFitter, ModifiedBetaGeoFitter, ParetoNBDFitter, BetaGeoBetaBinomFitter"
   ]
  },
  {
   "cell_type": "code",
   "execution_count": 258,
   "id": "e9a7f1ab",
   "metadata": {},
   "outputs": [],
   "source": [
    "df = pd.read_csv(r'F:\\01_Dataset\\04 Tabular\\09 Online Retail\\data.csv',encoding='unicode_escape')"
   ]
  },
  {
   "cell_type": "code",
   "execution_count": 259,
   "id": "c469d6ac",
   "metadata": {},
   "outputs": [
    {
     "data": {
      "text/html": [
       "<div>\n",
       "<style scoped>\n",
       "    .dataframe tbody tr th:only-of-type {\n",
       "        vertical-align: middle;\n",
       "    }\n",
       "\n",
       "    .dataframe tbody tr th {\n",
       "        vertical-align: top;\n",
       "    }\n",
       "\n",
       "    .dataframe thead th {\n",
       "        text-align: right;\n",
       "    }\n",
       "</style>\n",
       "<table border=\"1\" class=\"dataframe\">\n",
       "  <thead>\n",
       "    <tr style=\"text-align: right;\">\n",
       "      <th></th>\n",
       "      <th>InvoiceNo</th>\n",
       "      <th>StockCode</th>\n",
       "      <th>Description</th>\n",
       "      <th>Quantity</th>\n",
       "      <th>InvoiceDate</th>\n",
       "      <th>UnitPrice</th>\n",
       "      <th>CustomerID</th>\n",
       "      <th>Country</th>\n",
       "    </tr>\n",
       "  </thead>\n",
       "  <tbody>\n",
       "    <tr>\n",
       "      <th>0</th>\n",
       "      <td>536365</td>\n",
       "      <td>85123A</td>\n",
       "      <td>WHITE HANGING HEART T-LIGHT HOLDER</td>\n",
       "      <td>6</td>\n",
       "      <td>12/1/2010 8:26</td>\n",
       "      <td>2.55</td>\n",
       "      <td>17850.0</td>\n",
       "      <td>United Kingdom</td>\n",
       "    </tr>\n",
       "    <tr>\n",
       "      <th>1</th>\n",
       "      <td>536365</td>\n",
       "      <td>71053</td>\n",
       "      <td>WHITE METAL LANTERN</td>\n",
       "      <td>6</td>\n",
       "      <td>12/1/2010 8:26</td>\n",
       "      <td>3.39</td>\n",
       "      <td>17850.0</td>\n",
       "      <td>United Kingdom</td>\n",
       "    </tr>\n",
       "    <tr>\n",
       "      <th>2</th>\n",
       "      <td>536365</td>\n",
       "      <td>84406B</td>\n",
       "      <td>CREAM CUPID HEARTS COAT HANGER</td>\n",
       "      <td>8</td>\n",
       "      <td>12/1/2010 8:26</td>\n",
       "      <td>2.75</td>\n",
       "      <td>17850.0</td>\n",
       "      <td>United Kingdom</td>\n",
       "    </tr>\n",
       "    <tr>\n",
       "      <th>3</th>\n",
       "      <td>536365</td>\n",
       "      <td>84029G</td>\n",
       "      <td>KNITTED UNION FLAG HOT WATER BOTTLE</td>\n",
       "      <td>6</td>\n",
       "      <td>12/1/2010 8:26</td>\n",
       "      <td>3.39</td>\n",
       "      <td>17850.0</td>\n",
       "      <td>United Kingdom</td>\n",
       "    </tr>\n",
       "    <tr>\n",
       "      <th>4</th>\n",
       "      <td>536365</td>\n",
       "      <td>84029E</td>\n",
       "      <td>RED WOOLLY HOTTIE WHITE HEART.</td>\n",
       "      <td>6</td>\n",
       "      <td>12/1/2010 8:26</td>\n",
       "      <td>3.39</td>\n",
       "      <td>17850.0</td>\n",
       "      <td>United Kingdom</td>\n",
       "    </tr>\n",
       "  </tbody>\n",
       "</table>\n",
       "</div>"
      ],
      "text/plain": [
       "  InvoiceNo StockCode                          Description  Quantity  \\\n",
       "0    536365    85123A   WHITE HANGING HEART T-LIGHT HOLDER         6   \n",
       "1    536365     71053                  WHITE METAL LANTERN         6   \n",
       "2    536365    84406B       CREAM CUPID HEARTS COAT HANGER         8   \n",
       "3    536365    84029G  KNITTED UNION FLAG HOT WATER BOTTLE         6   \n",
       "4    536365    84029E       RED WOOLLY HOTTIE WHITE HEART.         6   \n",
       "\n",
       "      InvoiceDate  UnitPrice  CustomerID         Country  \n",
       "0  12/1/2010 8:26       2.55     17850.0  United Kingdom  \n",
       "1  12/1/2010 8:26       3.39     17850.0  United Kingdom  \n",
       "2  12/1/2010 8:26       2.75     17850.0  United Kingdom  \n",
       "3  12/1/2010 8:26       3.39     17850.0  United Kingdom  \n",
       "4  12/1/2010 8:26       3.39     17850.0  United Kingdom  "
      ]
     },
     "execution_count": 259,
     "metadata": {},
     "output_type": "execute_result"
    }
   ],
   "source": [
    "df.head()"
   ]
  },
  {
   "cell_type": "code",
   "execution_count": 260,
   "id": "12c09274",
   "metadata": {},
   "outputs": [
    {
     "data": {
      "text/html": [
       "<div>\n",
       "<style scoped>\n",
       "    .dataframe tbody tr th:only-of-type {\n",
       "        vertical-align: middle;\n",
       "    }\n",
       "\n",
       "    .dataframe tbody tr th {\n",
       "        vertical-align: top;\n",
       "    }\n",
       "\n",
       "    .dataframe thead th {\n",
       "        text-align: right;\n",
       "    }\n",
       "</style>\n",
       "<table border=\"1\" class=\"dataframe\">\n",
       "  <thead>\n",
       "    <tr style=\"text-align: right;\">\n",
       "      <th></th>\n",
       "      <th>InvoiceNo</th>\n",
       "      <th>StockCode</th>\n",
       "      <th>Description</th>\n",
       "      <th>Quantity</th>\n",
       "      <th>InvoiceDate</th>\n",
       "      <th>UnitPrice</th>\n",
       "      <th>CustomerID</th>\n",
       "      <th>Country</th>\n",
       "    </tr>\n",
       "  </thead>\n",
       "  <tbody>\n",
       "    <tr>\n",
       "      <th>0</th>\n",
       "      <td>536365</td>\n",
       "      <td>85123A</td>\n",
       "      <td>WHITE HANGING HEART T-LIGHT HOLDER</td>\n",
       "      <td>6</td>\n",
       "      <td>12/1/2010 8:26</td>\n",
       "      <td>2.55</td>\n",
       "      <td>17850.0</td>\n",
       "      <td>United Kingdom</td>\n",
       "    </tr>\n",
       "    <tr>\n",
       "      <th>1</th>\n",
       "      <td>536365</td>\n",
       "      <td>71053</td>\n",
       "      <td>WHITE METAL LANTERN</td>\n",
       "      <td>6</td>\n",
       "      <td>12/1/2010 8:26</td>\n",
       "      <td>3.39</td>\n",
       "      <td>17850.0</td>\n",
       "      <td>United Kingdom</td>\n",
       "    </tr>\n",
       "    <tr>\n",
       "      <th>2</th>\n",
       "      <td>536365</td>\n",
       "      <td>84406B</td>\n",
       "      <td>CREAM CUPID HEARTS COAT HANGER</td>\n",
       "      <td>8</td>\n",
       "      <td>12/1/2010 8:26</td>\n",
       "      <td>2.75</td>\n",
       "      <td>17850.0</td>\n",
       "      <td>United Kingdom</td>\n",
       "    </tr>\n",
       "    <tr>\n",
       "      <th>3</th>\n",
       "      <td>536365</td>\n",
       "      <td>84029G</td>\n",
       "      <td>KNITTED UNION FLAG HOT WATER BOTTLE</td>\n",
       "      <td>6</td>\n",
       "      <td>12/1/2010 8:26</td>\n",
       "      <td>3.39</td>\n",
       "      <td>17850.0</td>\n",
       "      <td>United Kingdom</td>\n",
       "    </tr>\n",
       "    <tr>\n",
       "      <th>4</th>\n",
       "      <td>536365</td>\n",
       "      <td>84029E</td>\n",
       "      <td>RED WOOLLY HOTTIE WHITE HEART.</td>\n",
       "      <td>6</td>\n",
       "      <td>12/1/2010 8:26</td>\n",
       "      <td>3.39</td>\n",
       "      <td>17850.0</td>\n",
       "      <td>United Kingdom</td>\n",
       "    </tr>\n",
       "  </tbody>\n",
       "</table>\n",
       "</div>"
      ],
      "text/plain": [
       "  InvoiceNo StockCode                          Description  Quantity  \\\n",
       "0    536365    85123A   WHITE HANGING HEART T-LIGHT HOLDER         6   \n",
       "1    536365     71053                  WHITE METAL LANTERN         6   \n",
       "2    536365    84406B       CREAM CUPID HEARTS COAT HANGER         8   \n",
       "3    536365    84029G  KNITTED UNION FLAG HOT WATER BOTTLE         6   \n",
       "4    536365    84029E       RED WOOLLY HOTTIE WHITE HEART.         6   \n",
       "\n",
       "      InvoiceDate  UnitPrice  CustomerID         Country  \n",
       "0  12/1/2010 8:26       2.55     17850.0  United Kingdom  \n",
       "1  12/1/2010 8:26       3.39     17850.0  United Kingdom  \n",
       "2  12/1/2010 8:26       2.75     17850.0  United Kingdom  \n",
       "3  12/1/2010 8:26       3.39     17850.0  United Kingdom  \n",
       "4  12/1/2010 8:26       3.39     17850.0  United Kingdom  "
      ]
     },
     "execution_count": 260,
     "metadata": {},
     "output_type": "execute_result"
    }
   ],
   "source": [
    "df.head()"
   ]
  },
  {
   "cell_type": "markdown",
   "id": "83704952",
   "metadata": {},
   "source": [
    "## PART I. EXPLORATORY DATA ANALYSIS"
   ]
  },
  {
   "cell_type": "code",
   "execution_count": 261,
   "id": "cbd9685a",
   "metadata": {
    "scrolled": true
   },
   "outputs": [
    {
     "data": {
      "text/plain": [
       "InvoiceNo           0\n",
       "StockCode           0\n",
       "Description      1454\n",
       "Quantity            0\n",
       "InvoiceDate         0\n",
       "UnitPrice           0\n",
       "CustomerID     135080\n",
       "Country             0\n",
       "dtype: int64"
      ]
     },
     "execution_count": 261,
     "metadata": {},
     "output_type": "execute_result"
    }
   ],
   "source": [
    "df.isnull().sum()"
   ]
  },
  {
   "cell_type": "code",
   "execution_count": 262,
   "id": "8ac7e916",
   "metadata": {},
   "outputs": [],
   "source": [
    "df = df.dropna()"
   ]
  },
  {
   "cell_type": "code",
   "execution_count": 263,
   "id": "07853afd",
   "metadata": {},
   "outputs": [
    {
     "data": {
      "text/plain": [
       "InvoiceNo      0\n",
       "StockCode      0\n",
       "Description    0\n",
       "Quantity       0\n",
       "InvoiceDate    0\n",
       "UnitPrice      0\n",
       "CustomerID     0\n",
       "Country        0\n",
       "dtype: int64"
      ]
     },
     "execution_count": 263,
     "metadata": {},
     "output_type": "execute_result"
    }
   ],
   "source": [
    "df.isnull().sum()"
   ]
  },
  {
   "cell_type": "code",
   "execution_count": 264,
   "id": "f9c66b7c",
   "metadata": {},
   "outputs": [],
   "source": [
    "df['InvoiceDate'] = pd.to_datetime(df['InvoiceDate'])\n",
    "df['Revenue'] = df['UnitPrice'] * df['Quantity']\n",
    "df = df[df['Quantity'] > 0]"
   ]
  },
  {
   "cell_type": "code",
   "execution_count": 265,
   "id": "a0877035",
   "metadata": {},
   "outputs": [
    {
     "data": {
      "text/plain": [
       "array(['Wednesday', 'Thursday', 'Friday', 'Sunday', 'Monday', 'Tuesday'],\n",
       "      dtype=object)"
      ]
     },
     "execution_count": 265,
     "metadata": {},
     "output_type": "execute_result"
    }
   ],
   "source": [
    "df['Date'] = df['InvoiceDate'].dt.date\n",
    "df['Time'] = df['InvoiceDate'].dt.time\n",
    "df['Day_of_week'] = df['InvoiceDate'].dt.day_name()\n",
    "df['Day_of_week'].unique()"
   ]
  },
  {
   "cell_type": "code",
   "execution_count": 266,
   "id": "de13415b",
   "metadata": {},
   "outputs": [
    {
     "name": "stdout",
     "output_type": "stream",
     "text": [
      "<class 'pandas.core.frame.DataFrame'>\n",
      "Int64Index: 397924 entries, 0 to 541908\n",
      "Data columns (total 12 columns):\n",
      " #   Column       Non-Null Count   Dtype         \n",
      "---  ------       --------------   -----         \n",
      " 0   InvoiceNo    397924 non-null  object        \n",
      " 1   StockCode    397924 non-null  object        \n",
      " 2   Description  397924 non-null  object        \n",
      " 3   Quantity     397924 non-null  int64         \n",
      " 4   InvoiceDate  397924 non-null  datetime64[ns]\n",
      " 5   UnitPrice    397924 non-null  float64       \n",
      " 6   CustomerID   397924 non-null  float64       \n",
      " 7   Country      397924 non-null  object        \n",
      " 8   Revenue      397924 non-null  float64       \n",
      " 9   Date         397924 non-null  object        \n",
      " 10  Time         397924 non-null  object        \n",
      " 11  Day_of_week  397924 non-null  object        \n",
      "dtypes: datetime64[ns](1), float64(3), int64(1), object(7)\n",
      "memory usage: 39.5+ MB\n"
     ]
    }
   ],
   "source": [
    "df.info()"
   ]
  },
  {
   "cell_type": "code",
   "execution_count": 267,
   "id": "a7420b0d",
   "metadata": {
    "scrolled": false
   },
   "outputs": [
    {
     "data": {
      "text/plain": [
       "Text(0.5, 1.0, 'Number of transaction by Country')"
      ]
     },
     "execution_count": 267,
     "metadata": {},
     "output_type": "execute_result"
    },
    {
     "data": {
      "image/png": "[encoded data removed]",
      "text/plain": [
       "<Figure size 1080x360 with 2 Axes>"
      ]
     },
     "metadata": {
      "needs_background": "light"
     },
     "output_type": "display_data"
    }
   ],
   "source": [
    "fig, (ax1,ax2) = plt.subplots(1,2,figsize=(15,5))\n",
    "df['Description'].value_counts()[:8].plot(kind='bar',ax=ax1)\n",
    "df['Country'].value_counts()[:8].plot(kind='bar',ax=ax2)\n",
    "ax1.set_xlabel('Description')\n",
    "ax1.set_ylabel('Number of transaction')\n",
    "ax1.set_title('Number of transaction by Description')\n",
    "ax2.set_xlabel('Country')\n",
    "ax2.set_ylabel('Number of transaction')\n",
    "ax2.set_title('Number of transaction by Country')"
   ]
  },
  {
   "cell_type": "code",
   "execution_count": 268,
   "id": "7956811b",
   "metadata": {},
   "outputs": [
    {
     "data": {
      "text/plain": [
       "Text(0.5, 1.0, 'Number of transaction by Day of Week')"
      ]
     },
     "execution_count": 268,
     "metadata": {},
     "output_type": "execute_result"
    },
    {
     "data": {
      "image/png": "[encoded data removed]",
      "text/plain": [
       "<Figure size 1080x360 with 3 Axes>"
      ]
     },
     "metadata": {
      "needs_background": "light"
     },
     "output_type": "display_data"
    }
   ],
   "source": [
    "fig, (ax1,ax2,ax3) = plt.subplots(1,3,figsize=(15,5))\n",
    "df['Date'].value_counts()[:1000].plot(ax=ax1)\n",
    "df['Time'].value_counts()[:1000].plot(ax=ax2,color='tab:orange')\n",
    "df['Day_of_week'].value_counts()[:1000].plot(kind='bar',ax=ax3,color='yellowgreen')\n",
    "ax1.xaxis.set_tick_params(rotation=45)\n",
    "ax2.xaxis.set_tick_params(rotation=45)\n",
    "ax3.xaxis.set_tick_params(rotation=45)\n",
    "ax1.set_title('Number of transaction by Date')\n",
    "ax2.set_title('Number of transaction by Time')\n",
    "ax3.set_title('Number of transaction by Day of Week')"
   ]
  },
  {
   "cell_type": "code",
   "execution_count": 269,
   "id": "61e7a7d0",
   "metadata": {},
   "outputs": [
    {
     "data": {
      "text/plain": [
       "Text(0.5, 1.0, 'Total revenue by Day of Week')"
      ]
     },
     "execution_count": 269,
     "metadata": {},
     "output_type": "execute_result"
    },
    {
     "data": {
      "image/png": "[encoded data removed]",
      "text/plain": [
       "<Figure size 1080x360 with 3 Axes>"
      ]
     },
     "metadata": {
      "needs_background": "light"
     },
     "output_type": "display_data"
    }
   ],
   "source": [
    "fig, (ax1,ax2,ax3) = plt.subplots(1,3,figsize=(15,5))\n",
    "df.groupby('Date')['Revenue'].sum()[:1000].plot(ax=ax1)\n",
    "df.groupby('Time')['Revenue'].sum()[:1000].plot(ax=ax2,color='tab:orange')\n",
    "df.groupby('Day_of_week')['Revenue'].sum()[:1000].plot(kind='bar',ax=ax3,color='yellowgreen')\n",
    "ax1.xaxis.set_tick_params(rotation=45)\n",
    "ax2.xaxis.set_tick_params(rotation=45)\n",
    "ax3.xaxis.set_tick_params(rotation=45)\n",
    "ax1.set_title('Total revenue by Date')\n",
    "ax2.set_title('Total revenue by Time')\n",
    "ax3.set_title('Total revenue by Day of Week')"
   ]
  },
  {
   "cell_type": "markdown",
   "id": "f57b9092",
   "metadata": {},
   "source": [
    "## PART II. DATA PROCESSING\n",
    "### # RFM ANALYSIS"
   ]
  },
  {
   "cell_type": "code",
   "execution_count": 270,
   "id": "90567386",
   "metadata": {},
   "outputs": [
    {
     "data": {
      "text/html": [
       "<div>\n",
       "<style scoped>\n",
       "    .dataframe tbody tr th:only-of-type {\n",
       "        vertical-align: middle;\n",
       "    }\n",
       "\n",
       "    .dataframe tbody tr th {\n",
       "        vertical-align: top;\n",
       "    }\n",
       "\n",
       "    .dataframe thead th {\n",
       "        text-align: right;\n",
       "    }\n",
       "</style>\n",
       "<table border=\"1\" class=\"dataframe\">\n",
       "  <thead>\n",
       "    <tr style=\"text-align: right;\">\n",
       "      <th></th>\n",
       "      <th>InvoiceNo</th>\n",
       "      <th>StockCode</th>\n",
       "      <th>Description</th>\n",
       "      <th>Quantity</th>\n",
       "      <th>InvoiceDate</th>\n",
       "      <th>UnitPrice</th>\n",
       "      <th>CustomerID</th>\n",
       "      <th>Country</th>\n",
       "      <th>Revenue</th>\n",
       "      <th>Date</th>\n",
       "      <th>Time</th>\n",
       "      <th>Day_of_week</th>\n",
       "    </tr>\n",
       "  </thead>\n",
       "  <tbody>\n",
       "    <tr>\n",
       "      <th>61619</th>\n",
       "      <td>541431</td>\n",
       "      <td>23166</td>\n",
       "      <td>MEDIUM CERAMIC TOP STORAGE JAR</td>\n",
       "      <td>74215</td>\n",
       "      <td>2011-01-18 10:01:00</td>\n",
       "      <td>1.04</td>\n",
       "      <td>12346.0</td>\n",
       "      <td>United Kingdom</td>\n",
       "      <td>77183.6</td>\n",
       "      <td>2011-01-18</td>\n",
       "      <td>10:01:00</td>\n",
       "      <td>Tuesday</td>\n",
       "    </tr>\n",
       "  </tbody>\n",
       "</table>\n",
       "</div>"
      ],
      "text/plain": [
       "      InvoiceNo StockCode                     Description  Quantity  \\\n",
       "61619    541431     23166  MEDIUM CERAMIC TOP STORAGE JAR     74215   \n",
       "\n",
       "              InvoiceDate  UnitPrice  CustomerID         Country  Revenue  \\\n",
       "61619 2011-01-18 10:01:00       1.04     12346.0  United Kingdom  77183.6   \n",
       "\n",
       "             Date      Time Day_of_week  \n",
       "61619  2011-01-18  10:01:00     Tuesday  "
      ]
     },
     "execution_count": 270,
     "metadata": {},
     "output_type": "execute_result"
    }
   ],
   "source": [
    "current_date = dt.datetime(2011,12,11)\n",
    "df = df[df['Quantity'] > 0]\n",
    "df[df['CustomerID'] == 12346]"
   ]
  },
  {
   "cell_type": "code",
   "execution_count": 271,
   "id": "2eb48fb7",
   "metadata": {},
   "outputs": [],
   "source": [
    "rfm = df.groupby('CustomerID').agg({'InvoiceDate': lambda invoice_date : (current_date - invoice_date.max()).days,\n",
    "                                    'InvoiceNo': lambda invoice: invoice.nunique(),\n",
    "                                   'Revenue': lambda total_price: total_price.sum()})\n",
    "rfm.columns = ['recency','frequency','monetary']\n",
    "rfm =  rfm[rfm['monetary'] > 0]\n",
    "rfm = rfm.reset_index()"
   ]
  },
  {
   "cell_type": "code",
   "execution_count": 272,
   "id": "04538f30",
   "metadata": {},
   "outputs": [],
   "source": [
    "rfm['recency_score'] = pd.qcut(rfm['recency'],5,labels=[1,2,3,4,5])\n",
    "rfm['frequency_score'] = pd.qcut(rfm['frequency'].rank(method='first'),5,labels=[1,2,3,4,5])\n",
    "rfm['monetary_score'] = pd.qcut(rfm['monetary'],5,labels=[1,2,3,4,5])\n",
    "rfm['FM'] = rfm['frequency_score'].astype('int') * rfm['monetary_score'].astype('int')\n",
    "rfm['F&M_score'] = pd.qcut(rfm['FM'],5,labels=[1,2,3,4,5])\n",
    "rfm['RFM_score'] = rfm['recency_score'].astype('str') + rfm['F&M_score'].astype('str')"
   ]
  },
  {
   "cell_type": "code",
   "execution_count": 273,
   "id": "ea185ef6",
   "metadata": {
    "scrolled": true
   },
   "outputs": [
    {
     "data": {
      "text/html": [
       "<div>\n",
       "<style scoped>\n",
       "    .dataframe tbody tr th:only-of-type {\n",
       "        vertical-align: middle;\n",
       "    }\n",
       "\n",
       "    .dataframe tbody tr th {\n",
       "        vertical-align: top;\n",
       "    }\n",
       "\n",
       "    .dataframe thead th {\n",
       "        text-align: right;\n",
       "    }\n",
       "</style>\n",
       "<table border=\"1\" class=\"dataframe\">\n",
       "  <thead>\n",
       "    <tr style=\"text-align: right;\">\n",
       "      <th></th>\n",
       "      <th>CustomerID</th>\n",
       "      <th>recency</th>\n",
       "      <th>frequency</th>\n",
       "      <th>monetary</th>\n",
       "      <th>recency_score</th>\n",
       "      <th>frequency_score</th>\n",
       "      <th>monetary_score</th>\n",
       "      <th>FM</th>\n",
       "      <th>F&amp;M_score</th>\n",
       "      <th>RFM_score</th>\n",
       "      <th>segment</th>\n",
       "      <th>segment_code</th>\n",
       "    </tr>\n",
       "  </thead>\n",
       "  <tbody>\n",
       "    <tr>\n",
       "      <th>0</th>\n",
       "      <td>12346.0</td>\n",
       "      <td>326</td>\n",
       "      <td>1</td>\n",
       "      <td>77183.60</td>\n",
       "      <td>5</td>\n",
       "      <td>1</td>\n",
       "      <td>5</td>\n",
       "      <td>5</td>\n",
       "      <td>2</td>\n",
       "      <td>52</td>\n",
       "      <td>Potential_loyalists</td>\n",
       "      <td>8</td>\n",
       "    </tr>\n",
       "    <tr>\n",
       "      <th>1</th>\n",
       "      <td>12347.0</td>\n",
       "      <td>3</td>\n",
       "      <td>7</td>\n",
       "      <td>4310.00</td>\n",
       "      <td>1</td>\n",
       "      <td>5</td>\n",
       "      <td>5</td>\n",
       "      <td>25</td>\n",
       "      <td>5</td>\n",
       "      <td>15</td>\n",
       "      <td>Cant_loose</td>\n",
       "      <td>2</td>\n",
       "    </tr>\n",
       "    <tr>\n",
       "      <th>2</th>\n",
       "      <td>12348.0</td>\n",
       "      <td>76</td>\n",
       "      <td>4</td>\n",
       "      <td>1797.24</td>\n",
       "      <td>4</td>\n",
       "      <td>4</td>\n",
       "      <td>4</td>\n",
       "      <td>16</td>\n",
       "      <td>4</td>\n",
       "      <td>44</td>\n",
       "      <td>Loyal_customers</td>\n",
       "      <td>5</td>\n",
       "    </tr>\n",
       "    <tr>\n",
       "      <th>3</th>\n",
       "      <td>12349.0</td>\n",
       "      <td>19</td>\n",
       "      <td>1</td>\n",
       "      <td>1757.55</td>\n",
       "      <td>2</td>\n",
       "      <td>1</td>\n",
       "      <td>4</td>\n",
       "      <td>4</td>\n",
       "      <td>2</td>\n",
       "      <td>22</td>\n",
       "      <td>Hibernating</td>\n",
       "      <td>0</td>\n",
       "    </tr>\n",
       "    <tr>\n",
       "      <th>4</th>\n",
       "      <td>12350.0</td>\n",
       "      <td>311</td>\n",
       "      <td>1</td>\n",
       "      <td>334.40</td>\n",
       "      <td>5</td>\n",
       "      <td>1</td>\n",
       "      <td>2</td>\n",
       "      <td>2</td>\n",
       "      <td>1</td>\n",
       "      <td>51</td>\n",
       "      <td>New_customers</td>\n",
       "      <td>7</td>\n",
       "    </tr>\n",
       "  </tbody>\n",
       "</table>\n",
       "</div>"
      ],
      "text/plain": [
       "   CustomerID  recency  frequency  monetary recency_score frequency_score  \\\n",
       "0     12346.0      326          1  77183.60             5               1   \n",
       "1     12347.0        3          7   4310.00             1               5   \n",
       "2     12348.0       76          4   1797.24             4               4   \n",
       "3     12349.0       19          1   1757.55             2               1   \n",
       "4     12350.0      311          1    334.40             5               1   \n",
       "\n",
       "  monetary_score  FM F&M_score RFM_score              segment  segment_code  \n",
       "0              5   5         2        52  Potential_loyalists             8  \n",
       "1              5  25         5        15           Cant_loose             2  \n",
       "2              4  16         4        44      Loyal_customers             5  \n",
       "3              4   4         2        22          Hibernating             0  \n",
       "4              2   2         1        51        New_customers             7  "
      ]
     },
     "execution_count": 273,
     "metadata": {},
     "output_type": "execute_result"
    }
   ],
   "source": [
    "seg_map = {r'[1-2][1-2]': 'Hibernating',\n",
    "           r'[1-2][3-4]': 'At_Risk',\n",
    "           r'[1-2]5': 'Cant_loose',\n",
    "           r'3[1-2]': 'About_to_sleep',\n",
    "           r'33': 'Need_attention',\n",
    "           r'[3-4][4-5]': 'Loyal_customers',\n",
    "           r'41': 'Promising',\n",
    "           r'51': 'New_customers',\n",
    "           r'[4-5][2-3]': 'Potential_loyalists',\n",
    "           r'5[4-5]': 'Champions'}\n",
    "\n",
    "seg_map2 = {'Hibernating':0,\n",
    "           'At_Risk':1,\n",
    "           'Cant_loose':2,\n",
    "           'About_to_sleep':3,\n",
    "           'Need_attention':4,\n",
    "           'Loyal_customers':5,\n",
    "           'Promising':6,\n",
    "           'New_customers':7,\n",
    "           'Potential_loyalists':8,\n",
    "           'Champions':9}\n",
    "\n",
    "\n",
    "rfm['segment'] = rfm['RFM_score'].replace(seg_map, regex=True)\n",
    "rfm['segment_code'] = rfm['segment'].replace(seg_map2)\n",
    "rfm.head()"
   ]
  },
  {
   "attachments": {
    "image-4.png": {
     "image/png": "[encoded data removed]"
    }
   },
   "cell_type": "markdown",
   "id": "4ef121eb",
   "metadata": {},
   "source": [
    "![image-4.png](attachment:image-4.png)"
   ]
  },
  {
   "cell_type": "code",
   "execution_count": 274,
   "id": "bfd952b9",
   "metadata": {},
   "outputs": [],
   "source": [
    "rfm['F&M_score'] = rfm['F&M_score'].astype('int')\n",
    "rfm_all = df.copy()"
   ]
  },
  {
   "cell_type": "code",
   "execution_count": 275,
   "id": "0f2d6bf6",
   "metadata": {},
   "outputs": [
    {
     "data": {
      "text/html": [
       "<div>\n",
       "<style scoped>\n",
       "    .dataframe tbody tr th:only-of-type {\n",
       "        vertical-align: middle;\n",
       "    }\n",
       "\n",
       "    .dataframe tbody tr th {\n",
       "        vertical-align: top;\n",
       "    }\n",
       "\n",
       "    .dataframe thead th {\n",
       "        text-align: right;\n",
       "    }\n",
       "</style>\n",
       "<table border=\"1\" class=\"dataframe\">\n",
       "  <thead>\n",
       "    <tr style=\"text-align: right;\">\n",
       "      <th></th>\n",
       "      <th>segment</th>\n",
       "    </tr>\n",
       "    <tr>\n",
       "      <th>CustomerID</th>\n",
       "      <th></th>\n",
       "    </tr>\n",
       "  </thead>\n",
       "  <tbody>\n",
       "    <tr>\n",
       "      <th>12346.0</th>\n",
       "      <td>Potential_loyalists</td>\n",
       "    </tr>\n",
       "    <tr>\n",
       "      <th>12347.0</th>\n",
       "      <td>Cant_loose</td>\n",
       "    </tr>\n",
       "    <tr>\n",
       "      <th>12348.0</th>\n",
       "      <td>Loyal_customers</td>\n",
       "    </tr>\n",
       "    <tr>\n",
       "      <th>12349.0</th>\n",
       "      <td>Hibernating</td>\n",
       "    </tr>\n",
       "    <tr>\n",
       "      <th>12350.0</th>\n",
       "      <td>New_customers</td>\n",
       "    </tr>\n",
       "  </tbody>\n",
       "</table>\n",
       "</div>"
      ],
      "text/plain": [
       "                        segment\n",
       "CustomerID                     \n",
       "12346.0     Potential_loyalists\n",
       "12347.0              Cant_loose\n",
       "12348.0         Loyal_customers\n",
       "12349.0             Hibernating\n",
       "12350.0           New_customers"
      ]
     },
     "execution_count": 275,
     "metadata": {},
     "output_type": "execute_result"
    }
   ],
   "source": [
    "cus_type = rfm[['CustomerID','segment']]\n",
    "cus_type = cus_type.set_index('CustomerID')\n",
    "cus_type.head()"
   ]
  },
  {
   "cell_type": "code",
   "execution_count": 276,
   "id": "93313d6c",
   "metadata": {},
   "outputs": [
    {
     "data": {
      "text/plain": [
       "Text(0, 0.5, 'Days')"
      ]
     },
     "execution_count": 276,
     "metadata": {},
     "output_type": "execute_result"
    },
    {
     "data": {
      "image/png": "[encoded data removed]",
      "text/plain": [
       "<Figure size 1080x360 with 3 Axes>"
      ]
     },
     "metadata": {
      "needs_background": "light"
     },
     "output_type": "display_data"
    }
   ],
   "source": [
    "fig, (ax1,ax2,ax3) = plt.subplots(1,3,figsize=(15,5))\n",
    "rfm.groupby('segment')['recency'].mean().sort_values(ascending=False).plot(kind='bar',ax=ax1)\n",
    "rfm.groupby('segment')['frequency'].mean().sort_values(ascending=False).plot(kind='bar',ax=ax2,color='orange')\n",
    "rfm.groupby('segment')['monetary'].mean().sort_values(ascending=False).plot(kind='bar',ax=ax3,color='yellowgreen')\n",
    "ax1.set_title('Sum of Total Revenue by Customer Segment')\n",
    "ax2.set_title('Average of Frequncy by Customer Segment')\n",
    "ax3.set_title('Average of Recency by Customer Segment')\n",
    "ax1.set_ylabel('Pound Sterling')\n",
    "ax2.set_ylabel('Number')\n",
    "ax3.set_ylabel('Days')"
   ]
  },
  {
   "cell_type": "markdown",
   "id": "80ab2244",
   "metadata": {},
   "source": [
    "#### Holdout Validation set splitting"
   ]
  },
  {
   "cell_type": "code",
   "execution_count": 277,
   "id": "8fe0ffee",
   "metadata": {},
   "outputs": [],
   "source": [
    "t_holdout = 30                                        \n",
    "max_date = df[\"InvoiceDate\"].max()                    \n",
    "max_cal_date = max_date - timedelta(days=t_holdout)     \n",
    "train = calibration_and_holdout_data(\n",
    "        transactions = df, \n",
    "        customer_id_col = \"CustomerID\", \n",
    "        datetime_col = \"InvoiceDate\",\n",
    "        monetary_value_col = \"Revenue\", \n",
    "        calibration_period_end = max_cal_date, \n",
    "        observation_period_end = max_date, \n",
    "        freq = \"D\")  "
   ]
  },
  {
   "cell_type": "code",
   "execution_count": 278,
   "id": "1e38394c",
   "metadata": {},
   "outputs": [
    {
     "data": {
      "text/html": [
       "<div>\n",
       "<style scoped>\n",
       "    .dataframe tbody tr th:only-of-type {\n",
       "        vertical-align: middle;\n",
       "    }\n",
       "\n",
       "    .dataframe tbody tr th {\n",
       "        vertical-align: top;\n",
       "    }\n",
       "\n",
       "    .dataframe thead th {\n",
       "        text-align: right;\n",
       "    }\n",
       "</style>\n",
       "<table border=\"1\" class=\"dataframe\">\n",
       "  <thead>\n",
       "    <tr style=\"text-align: right;\">\n",
       "      <th></th>\n",
       "      <th>frequency_cal</th>\n",
       "      <th>recency_cal</th>\n",
       "      <th>T_cal</th>\n",
       "      <th>monetary_value_cal</th>\n",
       "      <th>frequency_holdout</th>\n",
       "      <th>monetary_value_holdout</th>\n",
       "      <th>duration_holdout</th>\n",
       "    </tr>\n",
       "    <tr>\n",
       "      <th>CustomerID</th>\n",
       "      <th></th>\n",
       "      <th></th>\n",
       "      <th></th>\n",
       "      <th></th>\n",
       "      <th></th>\n",
       "      <th></th>\n",
       "      <th></th>\n",
       "    </tr>\n",
       "  </thead>\n",
       "  <tbody>\n",
       "    <tr>\n",
       "      <th>12346.0</th>\n",
       "      <td>0.0</td>\n",
       "      <td>0.0</td>\n",
       "      <td>295.0</td>\n",
       "      <td>0.000000</td>\n",
       "      <td>0.0</td>\n",
       "      <td>0.000000</td>\n",
       "      <td>30.0</td>\n",
       "    </tr>\n",
       "    <tr>\n",
       "      <th>12347.0</th>\n",
       "      <td>5.0</td>\n",
       "      <td>328.0</td>\n",
       "      <td>337.0</td>\n",
       "      <td>674.678000</td>\n",
       "      <td>1.0</td>\n",
       "      <td>20.438182</td>\n",
       "      <td>30.0</td>\n",
       "    </tr>\n",
       "    <tr>\n",
       "      <th>12348.0</th>\n",
       "      <td>3.0</td>\n",
       "      <td>283.0</td>\n",
       "      <td>328.0</td>\n",
       "      <td>301.480000</td>\n",
       "      <td>0.0</td>\n",
       "      <td>0.000000</td>\n",
       "      <td>30.0</td>\n",
       "    </tr>\n",
       "    <tr>\n",
       "      <th>12350.0</th>\n",
       "      <td>0.0</td>\n",
       "      <td>0.0</td>\n",
       "      <td>280.0</td>\n",
       "      <td>0.000000</td>\n",
       "      <td>0.0</td>\n",
       "      <td>0.000000</td>\n",
       "      <td>30.0</td>\n",
       "    </tr>\n",
       "    <tr>\n",
       "      <th>12352.0</th>\n",
       "      <td>6.0</td>\n",
       "      <td>260.0</td>\n",
       "      <td>266.0</td>\n",
       "      <td>368.256667</td>\n",
       "      <td>0.0</td>\n",
       "      <td>0.000000</td>\n",
       "      <td>30.0</td>\n",
       "    </tr>\n",
       "  </tbody>\n",
       "</table>\n",
       "</div>"
      ],
      "text/plain": [
       "            frequency_cal  recency_cal  T_cal  monetary_value_cal  \\\n",
       "CustomerID                                                          \n",
       "12346.0               0.0          0.0  295.0            0.000000   \n",
       "12347.0               5.0        328.0  337.0          674.678000   \n",
       "12348.0               3.0        283.0  328.0          301.480000   \n",
       "12350.0               0.0          0.0  280.0            0.000000   \n",
       "12352.0               6.0        260.0  266.0          368.256667   \n",
       "\n",
       "            frequency_holdout  monetary_value_holdout  duration_holdout  \n",
       "CustomerID                                                               \n",
       "12346.0                   0.0                0.000000              30.0  \n",
       "12347.0                   1.0               20.438182              30.0  \n",
       "12348.0                   0.0                0.000000              30.0  \n",
       "12350.0                   0.0                0.000000              30.0  \n",
       "12352.0                   0.0                0.000000              30.0  "
      ]
     },
     "execution_count": 278,
     "metadata": {},
     "output_type": "execute_result"
    }
   ],
   "source": [
    "train.head()"
   ]
  },
  {
   "cell_type": "code",
   "execution_count": 279,
   "id": "09dc4734",
   "metadata": {},
   "outputs": [
    {
     "data": {
      "text/plain": [
       "<AxesSubplot:>"
      ]
     },
     "execution_count": 279,
     "metadata": {},
     "output_type": "execute_result"
    },
    {
     "data": {
      "image/png": "[encoded data removed]",
      "text/plain": [
       "<Figure size 432x288 with 2 Axes>"
      ]
     },
     "metadata": {
      "needs_background": "light"
     },
     "output_type": "display_data"
    }
   ],
   "source": [
    "sns.heatmap(train[[\"frequency_cal\", \"monetary_value_cal\"]].corr(),annot=True)"
   ]
  },
  {
   "cell_type": "markdown",
   "id": "99555bd4",
   "metadata": {},
   "source": [
    "## PART II.Buy-till-you-die (BTYD) Analysis \n",
    "### I. BD/NBD + GammaGamma"
   ]
  },
  {
   "cell_type": "code",
   "execution_count": 280,
   "id": "fe2c0b1e",
   "metadata": {},
   "outputs": [
    {
     "data": {
      "text/plain": [
       "<lifetimes.BetaGeoFitter: fitted with 4070 subjects, a: 0.00, alpha: 72.13, b: 0.00, r: 0.81>"
      ]
     },
     "execution_count": 280,
     "metadata": {},
     "output_type": "execute_result"
    }
   ],
   "source": [
    "summary_bdnbd = train.copy()\n",
    "bgf = BetaGeoFitter(penalizer_coef=1e-06)\n",
    "bgf.fit(summary_bdnbd[\"frequency_cal\"], summary_bdnbd[\"recency_cal\"], summary_bdnbd[\"T_cal\"])"
   ]
  },
  {
   "cell_type": "code",
   "execution_count": 281,
   "id": "de8b64e7",
   "metadata": {},
   "outputs": [],
   "source": [
    "summary_bdnbd[\"predicted_purchases\"] = bgf.conditional_expected_number_of_purchases_up_to_time(30,\n",
    "                                                                                             summary_bdnbd[\"frequency_cal\"],\n",
    "                                                                                             summary_bdnbd[\"recency_cal\"],\n",
    "                                                                                             summary_bdnbd[\"T_cal\"])\n",
    "summary_bdnbd[\"actual_30\"] = summary_bdnbd[\"frequency_holdout\"]/summary_bdnbd[\"duration_holdout\"]*30\n",
    "summary_bdnbd = summary_bdnbd.fillna(value = 0)\n",
    "summary_bdnbd[\"Error\"] = summary_bdnbd[\"actual_30\"] - summary_bdnbd[\"predicted_purchases\"]"
   ]
  },
  {
   "cell_type": "code",
   "execution_count": 282,
   "id": "c039cd0b",
   "metadata": {},
   "outputs": [
    {
     "data": {
      "text/html": [
       "<div>\n",
       "<style scoped>\n",
       "    .dataframe tbody tr th:only-of-type {\n",
       "        vertical-align: middle;\n",
       "    }\n",
       "\n",
       "    .dataframe tbody tr th {\n",
       "        vertical-align: top;\n",
       "    }\n",
       "\n",
       "    .dataframe thead th {\n",
       "        text-align: right;\n",
       "    }\n",
       "</style>\n",
       "<table border=\"1\" class=\"dataframe\">\n",
       "  <thead>\n",
       "    <tr style=\"text-align: right;\">\n",
       "      <th></th>\n",
       "      <th>frequency_cal</th>\n",
       "      <th>recency_cal</th>\n",
       "      <th>T_cal</th>\n",
       "      <th>monetary_value_cal</th>\n",
       "      <th>frequency_holdout</th>\n",
       "      <th>monetary_value_holdout</th>\n",
       "      <th>duration_holdout</th>\n",
       "      <th>predicted_purchases</th>\n",
       "      <th>actual_30</th>\n",
       "      <th>Error</th>\n",
       "    </tr>\n",
       "    <tr>\n",
       "      <th>CustomerID</th>\n",
       "      <th></th>\n",
       "      <th></th>\n",
       "      <th></th>\n",
       "      <th></th>\n",
       "      <th></th>\n",
       "      <th></th>\n",
       "      <th></th>\n",
       "      <th></th>\n",
       "      <th></th>\n",
       "      <th></th>\n",
       "    </tr>\n",
       "  </thead>\n",
       "  <tbody>\n",
       "    <tr>\n",
       "      <th>12346.0</th>\n",
       "      <td>0.0</td>\n",
       "      <td>0.0</td>\n",
       "      <td>295.0</td>\n",
       "      <td>0.000000</td>\n",
       "      <td>0.0</td>\n",
       "      <td>0.000000</td>\n",
       "      <td>30.0</td>\n",
       "      <td>0.065926</td>\n",
       "      <td>0.0</td>\n",
       "      <td>-0.065926</td>\n",
       "    </tr>\n",
       "    <tr>\n",
       "      <th>12347.0</th>\n",
       "      <td>5.0</td>\n",
       "      <td>328.0</td>\n",
       "      <td>337.0</td>\n",
       "      <td>674.678000</td>\n",
       "      <td>1.0</td>\n",
       "      <td>20.438182</td>\n",
       "      <td>30.0</td>\n",
       "      <td>0.425786</td>\n",
       "      <td>1.0</td>\n",
       "      <td>0.574214</td>\n",
       "    </tr>\n",
       "    <tr>\n",
       "      <th>12348.0</th>\n",
       "      <td>3.0</td>\n",
       "      <td>283.0</td>\n",
       "      <td>328.0</td>\n",
       "      <td>301.480000</td>\n",
       "      <td>0.0</td>\n",
       "      <td>0.000000</td>\n",
       "      <td>30.0</td>\n",
       "      <td>0.285413</td>\n",
       "      <td>0.0</td>\n",
       "      <td>-0.285413</td>\n",
       "    </tr>\n",
       "    <tr>\n",
       "      <th>12350.0</th>\n",
       "      <td>0.0</td>\n",
       "      <td>0.0</td>\n",
       "      <td>280.0</td>\n",
       "      <td>0.000000</td>\n",
       "      <td>0.0</td>\n",
       "      <td>0.000000</td>\n",
       "      <td>30.0</td>\n",
       "      <td>0.068734</td>\n",
       "      <td>0.0</td>\n",
       "      <td>-0.068734</td>\n",
       "    </tr>\n",
       "    <tr>\n",
       "      <th>12352.0</th>\n",
       "      <td>6.0</td>\n",
       "      <td>260.0</td>\n",
       "      <td>266.0</td>\n",
       "      <td>368.256667</td>\n",
       "      <td>0.0</td>\n",
       "      <td>0.000000</td>\n",
       "      <td>30.0</td>\n",
       "      <td>0.603912</td>\n",
       "      <td>0.0</td>\n",
       "      <td>-0.603912</td>\n",
       "    </tr>\n",
       "  </tbody>\n",
       "</table>\n",
       "</div>"
      ],
      "text/plain": [
       "            frequency_cal  recency_cal  T_cal  monetary_value_cal  \\\n",
       "CustomerID                                                          \n",
       "12346.0               0.0          0.0  295.0            0.000000   \n",
       "12347.0               5.0        328.0  337.0          674.678000   \n",
       "12348.0               3.0        283.0  328.0          301.480000   \n",
       "12350.0               0.0          0.0  280.0            0.000000   \n",
       "12352.0               6.0        260.0  266.0          368.256667   \n",
       "\n",
       "            frequency_holdout  monetary_value_holdout  duration_holdout  \\\n",
       "CustomerID                                                                \n",
       "12346.0                   0.0                0.000000              30.0   \n",
       "12347.0                   1.0               20.438182              30.0   \n",
       "12348.0                   0.0                0.000000              30.0   \n",
       "12350.0                   0.0                0.000000              30.0   \n",
       "12352.0                   0.0                0.000000              30.0   \n",
       "\n",
       "            predicted_purchases  actual_30     Error  \n",
       "CustomerID                                            \n",
       "12346.0                0.065926        0.0 -0.065926  \n",
       "12347.0                0.425786        1.0  0.574214  \n",
       "12348.0                0.285413        0.0 -0.285413  \n",
       "12350.0                0.068734        0.0 -0.068734  \n",
       "12352.0                0.603912        0.0 -0.603912  "
      ]
     },
     "execution_count": 282,
     "metadata": {},
     "output_type": "execute_result"
    }
   ],
   "source": [
    "summary_bdnbd.head()"
   ]
  },
  {
   "cell_type": "markdown",
   "id": "76b030b6",
   "metadata": {},
   "source": [
    "#### Error"
   ]
  },
  {
   "cell_type": "code",
   "execution_count": 283,
   "id": "a2893a2a",
   "metadata": {},
   "outputs": [],
   "source": [
    "bdnbd_mse = mean_squared_error(summary_bdnbd[\"actual_30\"],summary_bdnbd[\"predicted_purchases\"])\n",
    "bdnbd_rmse = np.sqrt(bdnbd_mse)\n",
    "bdnbd_avg_error = summary_bdnbd[\"Error\"].mean()"
   ]
  },
  {
   "cell_type": "markdown",
   "id": "0b879803",
   "metadata": {},
   "source": [
    "#### GammaGamma"
   ]
  },
  {
   "cell_type": "code",
   "execution_count": 284,
   "id": "3217357f",
   "metadata": {},
   "outputs": [
    {
     "data": {
      "text/plain": [
       "<lifetimes.GammaGammaFitter: fitted with 2462 subjects, p: 2.13, q: 3.42, v: 483.87>"
      ]
     },
     "execution_count": 284,
     "metadata": {},
     "output_type": "execute_result"
    }
   ],
   "source": [
    "filtered_summary = summary_bdnbd[(summary_bdnbd['frequency_cal'] > 0) & (summary_bdnbd['monetary_value_cal'] > 0)]\n",
    "bdnbd_gg = GammaGammaFitter(penalizer_coef = 0.0)\n",
    "bdnbd_gg.fit(filtered_summary['frequency_cal'],filtered_summary['monetary_value_cal'])"
   ]
  },
  {
   "cell_type": "code",
   "execution_count": 285,
   "id": "986c1aa2",
   "metadata": {},
   "outputs": [],
   "source": [
    "filtered_summary[\"predicted_clv\"] = bdnbd_gg.customer_lifetime_value(bgf,\n",
    "                                                       filtered_summary[\"frequency_cal\"],\n",
    "                                                       filtered_summary[\"recency_cal\"],\n",
    "                                                       filtered_summary[\"T_cal\"],\n",
    "                                                       filtered_summary[\"monetary_value_cal\"],\n",
    "                                                       time = 30,\n",
    "                                                       freq = 'D',\n",
    "                                                       discount_rate = 0.01)"
   ]
  },
  {
   "cell_type": "code",
   "execution_count": 286,
   "id": "34fab81e",
   "metadata": {
    "scrolled": true
   },
   "outputs": [
    {
     "data": {
      "text/html": [
       "<div>\n",
       "<style scoped>\n",
       "    .dataframe tbody tr th:only-of-type {\n",
       "        vertical-align: middle;\n",
       "    }\n",
       "\n",
       "    .dataframe tbody tr th {\n",
       "        vertical-align: top;\n",
       "    }\n",
       "\n",
       "    .dataframe thead th {\n",
       "        text-align: right;\n",
       "    }\n",
       "</style>\n",
       "<table border=\"1\" class=\"dataframe\">\n",
       "  <thead>\n",
       "    <tr style=\"text-align: right;\">\n",
       "      <th></th>\n",
       "      <th>frequency_cal</th>\n",
       "      <th>recency_cal</th>\n",
       "      <th>T_cal</th>\n",
       "      <th>monetary_value_cal</th>\n",
       "      <th>frequency_holdout</th>\n",
       "      <th>monetary_value_holdout</th>\n",
       "      <th>duration_holdout</th>\n",
       "      <th>predicted_purchases</th>\n",
       "      <th>actual_30</th>\n",
       "      <th>Error</th>\n",
       "      <th>predicted_clv</th>\n",
       "    </tr>\n",
       "    <tr>\n",
       "      <th>CustomerID</th>\n",
       "      <th></th>\n",
       "      <th></th>\n",
       "      <th></th>\n",
       "      <th></th>\n",
       "      <th></th>\n",
       "      <th></th>\n",
       "      <th></th>\n",
       "      <th></th>\n",
       "      <th></th>\n",
       "      <th></th>\n",
       "      <th></th>\n",
       "    </tr>\n",
       "  </thead>\n",
       "  <tbody>\n",
       "    <tr>\n",
       "      <th>12347.0</th>\n",
       "      <td>5.0</td>\n",
       "      <td>328.0</td>\n",
       "      <td>337.0</td>\n",
       "      <td>674.678000</td>\n",
       "      <td>1.0</td>\n",
       "      <td>20.438182</td>\n",
       "      <td>30.0</td>\n",
       "      <td>0.425786</td>\n",
       "      <td>1.0</td>\n",
       "      <td>0.574214</td>\n",
       "      <td>6907.910795</td>\n",
       "    </tr>\n",
       "    <tr>\n",
       "      <th>12348.0</th>\n",
       "      <td>3.0</td>\n",
       "      <td>283.0</td>\n",
       "      <td>328.0</td>\n",
       "      <td>301.480000</td>\n",
       "      <td>0.0</td>\n",
       "      <td>0.000000</td>\n",
       "      <td>30.0</td>\n",
       "      <td>0.285413</td>\n",
       "      <td>0.0</td>\n",
       "      <td>-0.285413</td>\n",
       "      <td>2472.569713</td>\n",
       "    </tr>\n",
       "    <tr>\n",
       "      <th>12352.0</th>\n",
       "      <td>6.0</td>\n",
       "      <td>260.0</td>\n",
       "      <td>266.0</td>\n",
       "      <td>368.256667</td>\n",
       "      <td>0.0</td>\n",
       "      <td>0.000000</td>\n",
       "      <td>30.0</td>\n",
       "      <td>0.603912</td>\n",
       "      <td>0.0</td>\n",
       "      <td>-0.603912</td>\n",
       "      <td>5882.772936</td>\n",
       "    </tr>\n",
       "    <tr>\n",
       "      <th>12356.0</th>\n",
       "      <td>1.0</td>\n",
       "      <td>80.0</td>\n",
       "      <td>295.0</td>\n",
       "      <td>481.460000</td>\n",
       "      <td>1.0</td>\n",
       "      <td>29.175000</td>\n",
       "      <td>30.0</td>\n",
       "      <td>0.147640</td>\n",
       "      <td>1.0</td>\n",
       "      <td>0.852360</td>\n",
       "      <td>1722.122488</td>\n",
       "    </tr>\n",
       "    <tr>\n",
       "      <th>12359.0</th>\n",
       "      <td>3.0</td>\n",
       "      <td>274.0</td>\n",
       "      <td>301.0</td>\n",
       "      <td>1941.693333</td>\n",
       "      <td>0.0</td>\n",
       "      <td>0.000000</td>\n",
       "      <td>30.0</td>\n",
       "      <td>0.306066</td>\n",
       "      <td>0.0</td>\n",
       "      <td>-0.306066</td>\n",
       "      <td>12049.219477</td>\n",
       "    </tr>\n",
       "  </tbody>\n",
       "</table>\n",
       "</div>"
      ],
      "text/plain": [
       "            frequency_cal  recency_cal  T_cal  monetary_value_cal  \\\n",
       "CustomerID                                                          \n",
       "12347.0               5.0        328.0  337.0          674.678000   \n",
       "12348.0               3.0        283.0  328.0          301.480000   \n",
       "12352.0               6.0        260.0  266.0          368.256667   \n",
       "12356.0               1.0         80.0  295.0          481.460000   \n",
       "12359.0               3.0        274.0  301.0         1941.693333   \n",
       "\n",
       "            frequency_holdout  monetary_value_holdout  duration_holdout  \\\n",
       "CustomerID                                                                \n",
       "12347.0                   1.0               20.438182              30.0   \n",
       "12348.0                   0.0                0.000000              30.0   \n",
       "12352.0                   0.0                0.000000              30.0   \n",
       "12356.0                   1.0               29.175000              30.0   \n",
       "12359.0                   0.0                0.000000              30.0   \n",
       "\n",
       "            predicted_purchases  actual_30     Error  predicted_clv  \n",
       "CustomerID                                                           \n",
       "12347.0                0.425786        1.0  0.574214    6907.910795  \n",
       "12348.0                0.285413        0.0 -0.285413    2472.569713  \n",
       "12352.0                0.603912        0.0 -0.603912    5882.772936  \n",
       "12356.0                0.147640        1.0  0.852360    1722.122488  \n",
       "12359.0                0.306066        0.0 -0.306066   12049.219477  "
      ]
     },
     "execution_count": 286,
     "metadata": {},
     "output_type": "execute_result"
    }
   ],
   "source": [
    "filtered_summary.head()"
   ]
  },
  {
   "cell_type": "code",
   "execution_count": 287,
   "id": "2a82ec54",
   "metadata": {},
   "outputs": [],
   "source": [
    "df_bdnbd = filtered_summary.merge(cus_type,on='CustomerID')"
   ]
  },
  {
   "cell_type": "markdown",
   "id": "1aca893f",
   "metadata": {},
   "source": [
    "### II. MBG/NBD + GammaGamma"
   ]
  },
  {
   "cell_type": "code",
   "execution_count": 288,
   "id": "43422532",
   "metadata": {},
   "outputs": [
    {
     "data": {
      "text/plain": [
       "<lifetimes.ModifiedBetaGeoFitter: fitted with 4070 subjects, a: 0.00, alpha: 72.13, b: 0.00, r: 0.81>"
      ]
     },
     "execution_count": 288,
     "metadata": {},
     "output_type": "execute_result"
    }
   ],
   "source": [
    "summary_mbgnbd = train.copy()\n",
    "mbgf = ModifiedBetaGeoFitter(penalizer_coef=1e-06)\n",
    "mbgf.fit(summary_mbgnbd[\"frequency_cal\"], summary_mbgnbd[\"recency_cal\"], summary_mbgnbd[\"T_cal\"])"
   ]
  },
  {
   "cell_type": "code",
   "execution_count": 289,
   "id": "f5795f01",
   "metadata": {},
   "outputs": [],
   "source": [
    "summary_mbgnbd[\"predicted_purchases\"] = mbgf.conditional_expected_number_of_purchases_up_to_time(30,\n",
    "                                                                                             summary_mbgnbd[\"frequency_cal\"],\n",
    "                                                                                             summary_mbgnbd[\"recency_cal\"],\n",
    "                                                                                             summary_mbgnbd[\"T_cal\"])\n",
    "summary_mbgnbd[\"actual_30\"] = summary_mbgnbd[\"frequency_holdout\"]/summary_mbgnbd[\"duration_holdout\"]*30\n",
    "summary_mbgnbd = summary_mbgnbd.fillna(value = 0)\n",
    "summary_mbgnbd[\"Error\"] = summary_mbgnbd[\"actual_30\"] - summary_mbgnbd[\"predicted_purchases\"]"
   ]
  },
  {
   "cell_type": "code",
   "execution_count": 290,
   "id": "b5434d53",
   "metadata": {},
   "outputs": [
    {
     "data": {
      "text/html": [
       "<div>\n",
       "<style scoped>\n",
       "    .dataframe tbody tr th:only-of-type {\n",
       "        vertical-align: middle;\n",
       "    }\n",
       "\n",
       "    .dataframe tbody tr th {\n",
       "        vertical-align: top;\n",
       "    }\n",
       "\n",
       "    .dataframe thead th {\n",
       "        text-align: right;\n",
       "    }\n",
       "</style>\n",
       "<table border=\"1\" class=\"dataframe\">\n",
       "  <thead>\n",
       "    <tr style=\"text-align: right;\">\n",
       "      <th></th>\n",
       "      <th>frequency_cal</th>\n",
       "      <th>recency_cal</th>\n",
       "      <th>T_cal</th>\n",
       "      <th>monetary_value_cal</th>\n",
       "      <th>frequency_holdout</th>\n",
       "      <th>monetary_value_holdout</th>\n",
       "      <th>duration_holdout</th>\n",
       "      <th>predicted_purchases</th>\n",
       "      <th>actual_30</th>\n",
       "      <th>Error</th>\n",
       "    </tr>\n",
       "    <tr>\n",
       "      <th>CustomerID</th>\n",
       "      <th></th>\n",
       "      <th></th>\n",
       "      <th></th>\n",
       "      <th></th>\n",
       "      <th></th>\n",
       "      <th></th>\n",
       "      <th></th>\n",
       "      <th></th>\n",
       "      <th></th>\n",
       "      <th></th>\n",
       "    </tr>\n",
       "  </thead>\n",
       "  <tbody>\n",
       "    <tr>\n",
       "      <th>12346.0</th>\n",
       "      <td>0.0</td>\n",
       "      <td>0.0</td>\n",
       "      <td>295.0</td>\n",
       "      <td>0.000000</td>\n",
       "      <td>0.0</td>\n",
       "      <td>0.000000</td>\n",
       "      <td>30.0</td>\n",
       "      <td>0.065926</td>\n",
       "      <td>0.0</td>\n",
       "      <td>-0.065926</td>\n",
       "    </tr>\n",
       "    <tr>\n",
       "      <th>12347.0</th>\n",
       "      <td>5.0</td>\n",
       "      <td>328.0</td>\n",
       "      <td>337.0</td>\n",
       "      <td>674.678000</td>\n",
       "      <td>1.0</td>\n",
       "      <td>20.438182</td>\n",
       "      <td>30.0</td>\n",
       "      <td>0.425786</td>\n",
       "      <td>1.0</td>\n",
       "      <td>0.574214</td>\n",
       "    </tr>\n",
       "    <tr>\n",
       "      <th>12348.0</th>\n",
       "      <td>3.0</td>\n",
       "      <td>283.0</td>\n",
       "      <td>328.0</td>\n",
       "      <td>301.480000</td>\n",
       "      <td>0.0</td>\n",
       "      <td>0.000000</td>\n",
       "      <td>30.0</td>\n",
       "      <td>0.285413</td>\n",
       "      <td>0.0</td>\n",
       "      <td>-0.285413</td>\n",
       "    </tr>\n",
       "    <tr>\n",
       "      <th>12350.0</th>\n",
       "      <td>0.0</td>\n",
       "      <td>0.0</td>\n",
       "      <td>280.0</td>\n",
       "      <td>0.000000</td>\n",
       "      <td>0.0</td>\n",
       "      <td>0.000000</td>\n",
       "      <td>30.0</td>\n",
       "      <td>0.068734</td>\n",
       "      <td>0.0</td>\n",
       "      <td>-0.068734</td>\n",
       "    </tr>\n",
       "    <tr>\n",
       "      <th>12352.0</th>\n",
       "      <td>6.0</td>\n",
       "      <td>260.0</td>\n",
       "      <td>266.0</td>\n",
       "      <td>368.256667</td>\n",
       "      <td>0.0</td>\n",
       "      <td>0.000000</td>\n",
       "      <td>30.0</td>\n",
       "      <td>0.603912</td>\n",
       "      <td>0.0</td>\n",
       "      <td>-0.603912</td>\n",
       "    </tr>\n",
       "  </tbody>\n",
       "</table>\n",
       "</div>"
      ],
      "text/plain": [
       "            frequency_cal  recency_cal  T_cal  monetary_value_cal  \\\n",
       "CustomerID                                                          \n",
       "12346.0               0.0          0.0  295.0            0.000000   \n",
       "12347.0               5.0        328.0  337.0          674.678000   \n",
       "12348.0               3.0        283.0  328.0          301.480000   \n",
       "12350.0               0.0          0.0  280.0            0.000000   \n",
       "12352.0               6.0        260.0  266.0          368.256667   \n",
       "\n",
       "            frequency_holdout  monetary_value_holdout  duration_holdout  \\\n",
       "CustomerID                                                                \n",
       "12346.0                   0.0                0.000000              30.0   \n",
       "12347.0                   1.0               20.438182              30.0   \n",
       "12348.0                   0.0                0.000000              30.0   \n",
       "12350.0                   0.0                0.000000              30.0   \n",
       "12352.0                   0.0                0.000000              30.0   \n",
       "\n",
       "            predicted_purchases  actual_30     Error  \n",
       "CustomerID                                            \n",
       "12346.0                0.065926        0.0 -0.065926  \n",
       "12347.0                0.425786        1.0  0.574214  \n",
       "12348.0                0.285413        0.0 -0.285413  \n",
       "12350.0                0.068734        0.0 -0.068734  \n",
       "12352.0                0.603912        0.0 -0.603912  "
      ]
     },
     "execution_count": 290,
     "metadata": {},
     "output_type": "execute_result"
    }
   ],
   "source": [
    "summary_mbgnbd.head()"
   ]
  },
  {
   "cell_type": "markdown",
   "id": "c3f25b43",
   "metadata": {},
   "source": [
    "#### Error"
   ]
  },
  {
   "cell_type": "code",
   "execution_count": 291,
   "id": "ba81a533",
   "metadata": {},
   "outputs": [],
   "source": [
    "mbgnbd_mse = mean_squared_error(summary_mbgnbd[\"actual_30\"],summary_mbgnbd[\"predicted_purchases\"])\n",
    "mbgnbd_rmse = np.sqrt(mbgnbd_mse)\n",
    "mbgnbd_avg_error = summary_mbgnbd[\"Error\"].mean()"
   ]
  },
  {
   "cell_type": "markdown",
   "id": "50fe9d0b",
   "metadata": {},
   "source": [
    "#### GammaGamma"
   ]
  },
  {
   "cell_type": "code",
   "execution_count": 292,
   "id": "39a4911e",
   "metadata": {},
   "outputs": [
    {
     "data": {
      "text/plain": [
       "<lifetimes.GammaGammaFitter: fitted with 2462 subjects, p: 2.13, q: 3.42, v: 483.87>"
      ]
     },
     "execution_count": 292,
     "metadata": {},
     "output_type": "execute_result"
    }
   ],
   "source": [
    "filtered_summary = summary_mbgnbd[(summary_mbgnbd['frequency_cal'] > 0) & (summary_mbgnbd['monetary_value_cal'] > 0)]\n",
    "mbgnbd_gg = GammaGammaFitter(penalizer_coef = 0.0)\n",
    "mbgnbd_gg.fit(filtered_summary['frequency_cal'],filtered_summary['monetary_value_cal'])"
   ]
  },
  {
   "cell_type": "code",
   "execution_count": 293,
   "id": "9e2029ba",
   "metadata": {},
   "outputs": [],
   "source": [
    "filtered_summary[\"predicted_clv\"] = bdnbd_gg.customer_lifetime_value(mbgf,\n",
    "                                                       filtered_summary[\"frequency_cal\"],\n",
    "                                                       filtered_summary[\"recency_cal\"],\n",
    "                                                       filtered_summary[\"T_cal\"],\n",
    "                                                       filtered_summary[\"monetary_value_cal\"],\n",
    "                                                       time = 30,\n",
    "                                                       freq = 'D',\n",
    "                                                       discount_rate = 0.01)"
   ]
  },
  {
   "cell_type": "code",
   "execution_count": 294,
   "id": "fde7c33e",
   "metadata": {},
   "outputs": [
    {
     "data": {
      "text/html": [
       "<div>\n",
       "<style scoped>\n",
       "    .dataframe tbody tr th:only-of-type {\n",
       "        vertical-align: middle;\n",
       "    }\n",
       "\n",
       "    .dataframe tbody tr th {\n",
       "        vertical-align: top;\n",
       "    }\n",
       "\n",
       "    .dataframe thead th {\n",
       "        text-align: right;\n",
       "    }\n",
       "</style>\n",
       "<table border=\"1\" class=\"dataframe\">\n",
       "  <thead>\n",
       "    <tr style=\"text-align: right;\">\n",
       "      <th></th>\n",
       "      <th>frequency_cal</th>\n",
       "      <th>recency_cal</th>\n",
       "      <th>T_cal</th>\n",
       "      <th>monetary_value_cal</th>\n",
       "      <th>frequency_holdout</th>\n",
       "      <th>monetary_value_holdout</th>\n",
       "      <th>duration_holdout</th>\n",
       "      <th>predicted_purchases</th>\n",
       "      <th>actual_30</th>\n",
       "      <th>Error</th>\n",
       "      <th>predicted_clv</th>\n",
       "    </tr>\n",
       "    <tr>\n",
       "      <th>CustomerID</th>\n",
       "      <th></th>\n",
       "      <th></th>\n",
       "      <th></th>\n",
       "      <th></th>\n",
       "      <th></th>\n",
       "      <th></th>\n",
       "      <th></th>\n",
       "      <th></th>\n",
       "      <th></th>\n",
       "      <th></th>\n",
       "      <th></th>\n",
       "    </tr>\n",
       "  </thead>\n",
       "  <tbody>\n",
       "    <tr>\n",
       "      <th>12347.0</th>\n",
       "      <td>5.0</td>\n",
       "      <td>328.0</td>\n",
       "      <td>337.0</td>\n",
       "      <td>674.678000</td>\n",
       "      <td>1.0</td>\n",
       "      <td>20.438182</td>\n",
       "      <td>30.0</td>\n",
       "      <td>0.425786</td>\n",
       "      <td>1.0</td>\n",
       "      <td>0.574214</td>\n",
       "      <td>6907.910537</td>\n",
       "    </tr>\n",
       "    <tr>\n",
       "      <th>12348.0</th>\n",
       "      <td>3.0</td>\n",
       "      <td>283.0</td>\n",
       "      <td>328.0</td>\n",
       "      <td>301.480000</td>\n",
       "      <td>0.0</td>\n",
       "      <td>0.000000</td>\n",
       "      <td>30.0</td>\n",
       "      <td>0.285413</td>\n",
       "      <td>0.0</td>\n",
       "      <td>-0.285413</td>\n",
       "      <td>2472.569690</td>\n",
       "    </tr>\n",
       "    <tr>\n",
       "      <th>12352.0</th>\n",
       "      <td>6.0</td>\n",
       "      <td>260.0</td>\n",
       "      <td>266.0</td>\n",
       "      <td>368.256667</td>\n",
       "      <td>0.0</td>\n",
       "      <td>0.000000</td>\n",
       "      <td>30.0</td>\n",
       "      <td>0.603912</td>\n",
       "      <td>0.0</td>\n",
       "      <td>-0.603912</td>\n",
       "      <td>5882.772549</td>\n",
       "    </tr>\n",
       "    <tr>\n",
       "      <th>12356.0</th>\n",
       "      <td>1.0</td>\n",
       "      <td>80.0</td>\n",
       "      <td>295.0</td>\n",
       "      <td>481.460000</td>\n",
       "      <td>1.0</td>\n",
       "      <td>29.175000</td>\n",
       "      <td>30.0</td>\n",
       "      <td>0.147640</td>\n",
       "      <td>1.0</td>\n",
       "      <td>0.852360</td>\n",
       "      <td>1722.122626</td>\n",
       "    </tr>\n",
       "    <tr>\n",
       "      <th>12359.0</th>\n",
       "      <td>3.0</td>\n",
       "      <td>274.0</td>\n",
       "      <td>301.0</td>\n",
       "      <td>1941.693333</td>\n",
       "      <td>0.0</td>\n",
       "      <td>0.000000</td>\n",
       "      <td>30.0</td>\n",
       "      <td>0.306066</td>\n",
       "      <td>0.0</td>\n",
       "      <td>-0.306066</td>\n",
       "      <td>12049.219282</td>\n",
       "    </tr>\n",
       "  </tbody>\n",
       "</table>\n",
       "</div>"
      ],
      "text/plain": [
       "            frequency_cal  recency_cal  T_cal  monetary_value_cal  \\\n",
       "CustomerID                                                          \n",
       "12347.0               5.0        328.0  337.0          674.678000   \n",
       "12348.0               3.0        283.0  328.0          301.480000   \n",
       "12352.0               6.0        260.0  266.0          368.256667   \n",
       "12356.0               1.0         80.0  295.0          481.460000   \n",
       "12359.0               3.0        274.0  301.0         1941.693333   \n",
       "\n",
       "            frequency_holdout  monetary_value_holdout  duration_holdout  \\\n",
       "CustomerID                                                                \n",
       "12347.0                   1.0               20.438182              30.0   \n",
       "12348.0                   0.0                0.000000              30.0   \n",
       "12352.0                   0.0                0.000000              30.0   \n",
       "12356.0                   1.0               29.175000              30.0   \n",
       "12359.0                   0.0                0.000000              30.0   \n",
       "\n",
       "            predicted_purchases  actual_30     Error  predicted_clv  \n",
       "CustomerID                                                           \n",
       "12347.0                0.425786        1.0  0.574214    6907.910537  \n",
       "12348.0                0.285413        0.0 -0.285413    2472.569690  \n",
       "12352.0                0.603912        0.0 -0.603912    5882.772549  \n",
       "12356.0                0.147640        1.0  0.852360    1722.122626  \n",
       "12359.0                0.306066        0.0 -0.306066   12049.219282  "
      ]
     },
     "execution_count": 294,
     "metadata": {},
     "output_type": "execute_result"
    }
   ],
   "source": [
    "filtered_summary.head()"
   ]
  },
  {
   "cell_type": "code",
   "execution_count": 295,
   "id": "ec7448b4",
   "metadata": {},
   "outputs": [],
   "source": [
    "df_mbgnbd = filtered_summary.merge(cus_type,on='CustomerID')"
   ]
  },
  {
   "cell_type": "markdown",
   "id": "79b2ed4d",
   "metadata": {},
   "source": [
    "### III. Pareto NBD + GammaGamma"
   ]
  },
  {
   "cell_type": "code",
   "execution_count": 296,
   "id": "38c4a9d8",
   "metadata": {},
   "outputs": [
    {
     "data": {
      "text/plain": [
       "<lifetimes.ParetoNBDFitter: fitted with 4070 subjects, alpha: 72.14, beta: 1296.77, r: 0.81, s: 0.00>"
      ]
     },
     "execution_count": 296,
     "metadata": {},
     "output_type": "execute_result"
    }
   ],
   "source": [
    "summary_pnbd = train.copy()\n",
    "pnbd = ParetoNBDFitter(penalizer_coef=1e-06)\n",
    "pnbd.fit(summary_pnbd[\"frequency_cal\"], summary_pnbd[\"recency_cal\"], summary_pnbd[\"T_cal\"])"
   ]
  },
  {
   "cell_type": "code",
   "execution_count": 297,
   "id": "d1c29b69",
   "metadata": {},
   "outputs": [],
   "source": [
    "summary_pnbd[\"predicted_purchases\"] = pnbd.conditional_expected_number_of_purchases_up_to_time(30,\n",
    "                                                                                             summary_pnbd[\"frequency_cal\"],\n",
    "                                                                                             summary_pnbd[\"recency_cal\"],\n",
    "                                                                                             summary_pnbd[\"T_cal\"])\n",
    "summary_pnbd[\"actual_30\"] = summary_pnbd[\"frequency_holdout\"]/summary_pnbd[\"duration_holdout\"]*30\n",
    "summary_pnbd = summary_pnbd.fillna(value = 0)\n",
    "summary_pnbd[\"Error\"] = summary_pnbd[\"actual_30\"] - summary_pnbd[\"predicted_purchases\"]"
   ]
  },
  {
   "cell_type": "code",
   "execution_count": 298,
   "id": "60f1d870",
   "metadata": {},
   "outputs": [
    {
     "data": {
      "text/html": [
       "<div>\n",
       "<style scoped>\n",
       "    .dataframe tbody tr th:only-of-type {\n",
       "        vertical-align: middle;\n",
       "    }\n",
       "\n",
       "    .dataframe tbody tr th {\n",
       "        vertical-align: top;\n",
       "    }\n",
       "\n",
       "    .dataframe thead th {\n",
       "        text-align: right;\n",
       "    }\n",
       "</style>\n",
       "<table border=\"1\" class=\"dataframe\">\n",
       "  <thead>\n",
       "    <tr style=\"text-align: right;\">\n",
       "      <th></th>\n",
       "      <th>frequency_cal</th>\n",
       "      <th>recency_cal</th>\n",
       "      <th>T_cal</th>\n",
       "      <th>monetary_value_cal</th>\n",
       "      <th>frequency_holdout</th>\n",
       "      <th>monetary_value_holdout</th>\n",
       "      <th>duration_holdout</th>\n",
       "      <th>predicted_purchases</th>\n",
       "      <th>actual_30</th>\n",
       "      <th>Error</th>\n",
       "    </tr>\n",
       "    <tr>\n",
       "      <th>CustomerID</th>\n",
       "      <th></th>\n",
       "      <th></th>\n",
       "      <th></th>\n",
       "      <th></th>\n",
       "      <th></th>\n",
       "      <th></th>\n",
       "      <th></th>\n",
       "      <th></th>\n",
       "      <th></th>\n",
       "      <th></th>\n",
       "    </tr>\n",
       "  </thead>\n",
       "  <tbody>\n",
       "    <tr>\n",
       "      <th>12346.0</th>\n",
       "      <td>0.0</td>\n",
       "      <td>0.0</td>\n",
       "      <td>295.0</td>\n",
       "      <td>0.000000</td>\n",
       "      <td>0.0</td>\n",
       "      <td>0.000000</td>\n",
       "      <td>30.0</td>\n",
       "      <td>0.065932</td>\n",
       "      <td>0.0</td>\n",
       "      <td>-0.065932</td>\n",
       "    </tr>\n",
       "    <tr>\n",
       "      <th>12347.0</th>\n",
       "      <td>5.0</td>\n",
       "      <td>328.0</td>\n",
       "      <td>337.0</td>\n",
       "      <td>674.678000</td>\n",
       "      <td>1.0</td>\n",
       "      <td>20.438182</td>\n",
       "      <td>30.0</td>\n",
       "      <td>0.425787</td>\n",
       "      <td>1.0</td>\n",
       "      <td>0.574213</td>\n",
       "    </tr>\n",
       "    <tr>\n",
       "      <th>12348.0</th>\n",
       "      <td>3.0</td>\n",
       "      <td>283.0</td>\n",
       "      <td>328.0</td>\n",
       "      <td>301.480000</td>\n",
       "      <td>0.0</td>\n",
       "      <td>0.000000</td>\n",
       "      <td>30.0</td>\n",
       "      <td>0.285416</td>\n",
       "      <td>0.0</td>\n",
       "      <td>-0.285416</td>\n",
       "    </tr>\n",
       "    <tr>\n",
       "      <th>12350.0</th>\n",
       "      <td>0.0</td>\n",
       "      <td>0.0</td>\n",
       "      <td>280.0</td>\n",
       "      <td>0.000000</td>\n",
       "      <td>0.0</td>\n",
       "      <td>0.000000</td>\n",
       "      <td>30.0</td>\n",
       "      <td>0.068741</td>\n",
       "      <td>0.0</td>\n",
       "      <td>-0.068741</td>\n",
       "    </tr>\n",
       "    <tr>\n",
       "      <th>12352.0</th>\n",
       "      <td>6.0</td>\n",
       "      <td>260.0</td>\n",
       "      <td>266.0</td>\n",
       "      <td>368.256667</td>\n",
       "      <td>0.0</td>\n",
       "      <td>0.000000</td>\n",
       "      <td>30.0</td>\n",
       "      <td>0.603912</td>\n",
       "      <td>0.0</td>\n",
       "      <td>-0.603912</td>\n",
       "    </tr>\n",
       "  </tbody>\n",
       "</table>\n",
       "</div>"
      ],
      "text/plain": [
       "            frequency_cal  recency_cal  T_cal  monetary_value_cal  \\\n",
       "CustomerID                                                          \n",
       "12346.0               0.0          0.0  295.0            0.000000   \n",
       "12347.0               5.0        328.0  337.0          674.678000   \n",
       "12348.0               3.0        283.0  328.0          301.480000   \n",
       "12350.0               0.0          0.0  280.0            0.000000   \n",
       "12352.0               6.0        260.0  266.0          368.256667   \n",
       "\n",
       "            frequency_holdout  monetary_value_holdout  duration_holdout  \\\n",
       "CustomerID                                                                \n",
       "12346.0                   0.0                0.000000              30.0   \n",
       "12347.0                   1.0               20.438182              30.0   \n",
       "12348.0                   0.0                0.000000              30.0   \n",
       "12350.0                   0.0                0.000000              30.0   \n",
       "12352.0                   0.0                0.000000              30.0   \n",
       "\n",
       "            predicted_purchases  actual_30     Error  \n",
       "CustomerID                                            \n",
       "12346.0                0.065932        0.0 -0.065932  \n",
       "12347.0                0.425787        1.0  0.574213  \n",
       "12348.0                0.285416        0.0 -0.285416  \n",
       "12350.0                0.068741        0.0 -0.068741  \n",
       "12352.0                0.603912        0.0 -0.603912  "
      ]
     },
     "execution_count": 298,
     "metadata": {},
     "output_type": "execute_result"
    }
   ],
   "source": [
    "summary_pnbd.head()"
   ]
  },
  {
   "cell_type": "markdown",
   "id": "00855ca9",
   "metadata": {},
   "source": [
    "#### Error"
   ]
  },
  {
   "cell_type": "code",
   "execution_count": 299,
   "id": "70a7a8ea",
   "metadata": {},
   "outputs": [],
   "source": [
    "pnbd_mse = mean_squared_error(summary_pnbd[\"actual_30\"],summary_pnbd[\"predicted_purchases\"])\n",
    "pnbd_rmse = np.sqrt(pnbd_mse)\n",
    "pnbd_avg_error = summary_pnbd[\"Error\"].mean()"
   ]
  },
  {
   "cell_type": "markdown",
   "id": "1a5aebf8",
   "metadata": {},
   "source": [
    "#### GammaGamma"
   ]
  },
  {
   "cell_type": "code",
   "execution_count": 300,
   "id": "ab7032a5",
   "metadata": {},
   "outputs": [
    {
     "data": {
      "text/plain": [
       "<lifetimes.GammaGammaFitter: fitted with 2462 subjects, p: 2.13, q: 3.42, v: 483.87>"
      ]
     },
     "execution_count": 300,
     "metadata": {},
     "output_type": "execute_result"
    }
   ],
   "source": [
    "filtered_summary = summary_pnbd[(summary_pnbd['frequency_cal'] > 0) & (summary_pnbd['monetary_value_cal'] > 0)]\n",
    "pnbd_gg = GammaGammaFitter(penalizer_coef = 0.0)\n",
    "pnbd_gg.fit(filtered_summary['frequency_cal'],filtered_summary['monetary_value_cal'])"
   ]
  },
  {
   "cell_type": "code",
   "execution_count": 301,
   "id": "72eefaee",
   "metadata": {},
   "outputs": [
    {
     "name": "stderr",
     "output_type": "stream",
     "text": [
      "C:\\Users\\warintorn.nawong13\\anaconda3\\lib\\site-packages\\pandas\\core\\arraylike.py:364: RuntimeWarning: divide by zero encountered in log\n",
      "  result = getattr(ufunc, method)(*inputs, **kwargs)\n"
     ]
    }
   ],
   "source": [
    "filtered_summary[\"predicted_clv\"] = pnbd_gg.customer_lifetime_value(pnbd,\n",
    "                                                       filtered_summary[\"frequency_cal\"],\n",
    "                                                       filtered_summary[\"recency_cal\"],\n",
    "                                                       filtered_summary[\"T_cal\"],\n",
    "                                                       filtered_summary[\"monetary_value_cal\"],\n",
    "                                                       time = 30,\n",
    "                                                       freq = 'D',\n",
    "                                                       discount_rate = 0.01)"
   ]
  },
  {
   "cell_type": "code",
   "execution_count": 302,
   "id": "b0f30d39",
   "metadata": {},
   "outputs": [
    {
     "data": {
      "text/html": [
       "<div>\n",
       "<style scoped>\n",
       "    .dataframe tbody tr th:only-of-type {\n",
       "        vertical-align: middle;\n",
       "    }\n",
       "\n",
       "    .dataframe tbody tr th {\n",
       "        vertical-align: top;\n",
       "    }\n",
       "\n",
       "    .dataframe thead th {\n",
       "        text-align: right;\n",
       "    }\n",
       "</style>\n",
       "<table border=\"1\" class=\"dataframe\">\n",
       "  <thead>\n",
       "    <tr style=\"text-align: right;\">\n",
       "      <th></th>\n",
       "      <th>frequency_cal</th>\n",
       "      <th>recency_cal</th>\n",
       "      <th>T_cal</th>\n",
       "      <th>monetary_value_cal</th>\n",
       "      <th>frequency_holdout</th>\n",
       "      <th>monetary_value_holdout</th>\n",
       "      <th>duration_holdout</th>\n",
       "      <th>predicted_purchases</th>\n",
       "      <th>actual_30</th>\n",
       "      <th>Error</th>\n",
       "      <th>predicted_clv</th>\n",
       "    </tr>\n",
       "    <tr>\n",
       "      <th>CustomerID</th>\n",
       "      <th></th>\n",
       "      <th></th>\n",
       "      <th></th>\n",
       "      <th></th>\n",
       "      <th></th>\n",
       "      <th></th>\n",
       "      <th></th>\n",
       "      <th></th>\n",
       "      <th></th>\n",
       "      <th></th>\n",
       "      <th></th>\n",
       "    </tr>\n",
       "  </thead>\n",
       "  <tbody>\n",
       "    <tr>\n",
       "      <th>12347.0</th>\n",
       "      <td>5.0</td>\n",
       "      <td>328.0</td>\n",
       "      <td>337.0</td>\n",
       "      <td>674.678000</td>\n",
       "      <td>1.0</td>\n",
       "      <td>20.438182</td>\n",
       "      <td>30.0</td>\n",
       "      <td>0.425787</td>\n",
       "      <td>1.0</td>\n",
       "      <td>0.574213</td>\n",
       "      <td>6907.935306</td>\n",
       "    </tr>\n",
       "    <tr>\n",
       "      <th>12348.0</th>\n",
       "      <td>3.0</td>\n",
       "      <td>283.0</td>\n",
       "      <td>328.0</td>\n",
       "      <td>301.480000</td>\n",
       "      <td>0.0</td>\n",
       "      <td>0.000000</td>\n",
       "      <td>30.0</td>\n",
       "      <td>0.285416</td>\n",
       "      <td>0.0</td>\n",
       "      <td>-0.285416</td>\n",
       "      <td>2472.598069</td>\n",
       "    </tr>\n",
       "    <tr>\n",
       "      <th>12352.0</th>\n",
       "      <td>6.0</td>\n",
       "      <td>260.0</td>\n",
       "      <td>266.0</td>\n",
       "      <td>368.256667</td>\n",
       "      <td>0.0</td>\n",
       "      <td>0.000000</td>\n",
       "      <td>30.0</td>\n",
       "      <td>0.603912</td>\n",
       "      <td>0.0</td>\n",
       "      <td>-0.603912</td>\n",
       "      <td>5882.765481</td>\n",
       "    </tr>\n",
       "    <tr>\n",
       "      <th>12356.0</th>\n",
       "      <td>1.0</td>\n",
       "      <td>80.0</td>\n",
       "      <td>295.0</td>\n",
       "      <td>481.460000</td>\n",
       "      <td>1.0</td>\n",
       "      <td>29.175000</td>\n",
       "      <td>30.0</td>\n",
       "      <td>0.147645</td>\n",
       "      <td>1.0</td>\n",
       "      <td>0.852355</td>\n",
       "      <td>1722.185620</td>\n",
       "    </tr>\n",
       "    <tr>\n",
       "      <th>12359.0</th>\n",
       "      <td>3.0</td>\n",
       "      <td>274.0</td>\n",
       "      <td>301.0</td>\n",
       "      <td>1941.693333</td>\n",
       "      <td>0.0</td>\n",
       "      <td>0.000000</td>\n",
       "      <td>30.0</td>\n",
       "      <td>0.306069</td>\n",
       "      <td>0.0</td>\n",
       "      <td>-0.306069</td>\n",
       "      <td>12049.346967</td>\n",
       "    </tr>\n",
       "  </tbody>\n",
       "</table>\n",
       "</div>"
      ],
      "text/plain": [
       "            frequency_cal  recency_cal  T_cal  monetary_value_cal  \\\n",
       "CustomerID                                                          \n",
       "12347.0               5.0        328.0  337.0          674.678000   \n",
       "12348.0               3.0        283.0  328.0          301.480000   \n",
       "12352.0               6.0        260.0  266.0          368.256667   \n",
       "12356.0               1.0         80.0  295.0          481.460000   \n",
       "12359.0               3.0        274.0  301.0         1941.693333   \n",
       "\n",
       "            frequency_holdout  monetary_value_holdout  duration_holdout  \\\n",
       "CustomerID                                                                \n",
       "12347.0                   1.0               20.438182              30.0   \n",
       "12348.0                   0.0                0.000000              30.0   \n",
       "12352.0                   0.0                0.000000              30.0   \n",
       "12356.0                   1.0               29.175000              30.0   \n",
       "12359.0                   0.0                0.000000              30.0   \n",
       "\n",
       "            predicted_purchases  actual_30     Error  predicted_clv  \n",
       "CustomerID                                                           \n",
       "12347.0                0.425787        1.0  0.574213    6907.935306  \n",
       "12348.0                0.285416        0.0 -0.285416    2472.598069  \n",
       "12352.0                0.603912        0.0 -0.603912    5882.765481  \n",
       "12356.0                0.147645        1.0  0.852355    1722.185620  \n",
       "12359.0                0.306069        0.0 -0.306069   12049.346967  "
      ]
     },
     "execution_count": 302,
     "metadata": {},
     "output_type": "execute_result"
    }
   ],
   "source": [
    "filtered_summary.head()"
   ]
  },
  {
   "cell_type": "code",
   "execution_count": 303,
   "id": "a53dd515",
   "metadata": {},
   "outputs": [],
   "source": [
    "df_pnbd = filtered_summary.merge(cus_type,on='CustomerID')"
   ]
  },
  {
   "cell_type": "markdown",
   "id": "abda4ba9",
   "metadata": {},
   "source": [
    "### Conclusion"
   ]
  },
  {
   "cell_type": "code",
   "execution_count": 309,
   "id": "f5187982",
   "metadata": {},
   "outputs": [
    {
     "data": {
      "text/html": [
       "<div>\n",
       "<style scoped>\n",
       "    .dataframe tbody tr th:only-of-type {\n",
       "        vertical-align: middle;\n",
       "    }\n",
       "\n",
       "    .dataframe tbody tr th {\n",
       "        vertical-align: top;\n",
       "    }\n",
       "\n",
       "    .dataframe thead th {\n",
       "        text-align: right;\n",
       "    }\n",
       "</style>\n",
       "<table border=\"1\" class=\"dataframe\">\n",
       "  <thead>\n",
       "    <tr style=\"text-align: right;\">\n",
       "      <th></th>\n",
       "      <th>BG/NBD</th>\n",
       "      <th>MBG/NBD</th>\n",
       "      <th>ParetoNBD</th>\n",
       "    </tr>\n",
       "  </thead>\n",
       "  <tbody>\n",
       "    <tr>\n",
       "      <th>avg_error</th>\n",
       "      <td>0.193458</td>\n",
       "      <td>0.193458</td>\n",
       "      <td>0.193453</td>\n",
       "    </tr>\n",
       "    <tr>\n",
       "      <th>mse</th>\n",
       "      <td>0.718464</td>\n",
       "      <td>0.718464</td>\n",
       "      <td>0.718466</td>\n",
       "    </tr>\n",
       "    <tr>\n",
       "      <th>rmse</th>\n",
       "      <td>0.847623</td>\n",
       "      <td>0.847623</td>\n",
       "      <td>0.847624</td>\n",
       "    </tr>\n",
       "  </tbody>\n",
       "</table>\n",
       "</div>"
      ],
      "text/plain": [
       "             BG/NBD   MBG/NBD  ParetoNBD\n",
       "avg_error  0.193458  0.193458   0.193453\n",
       "mse        0.718464  0.718464   0.718466\n",
       "rmse       0.847623  0.847623   0.847624"
      ]
     },
     "execution_count": 309,
     "metadata": {},
     "output_type": "execute_result"
    }
   ],
   "source": [
    "error = [[bdnbd_avg_error,mbgnbd_avg_error,pnbd_avg_error],[bdnbd_mse,mbgnbd_mse,pnbd_mse],[bdnbd_rmse,mbgnbd_rmse,pnbd_rmse]]\n",
    "model_error = pd.DataFrame(error, columns = [\"BG/NBD\",\"MBG/NBD\",\"ParetoNBD\"],\n",
    "                           index = ['avg_error','mse','rmse'])\n",
    "model_error"
   ]
  },
  {
   "cell_type": "code",
   "execution_count": 320,
   "id": "054bc539",
   "metadata": {},
   "outputs": [
    {
     "data": {
      "text/plain": [
       "Text(0, 0.5, 'Pound Sterling')"
      ]
     },
     "execution_count": 320,
     "metadata": {},
     "output_type": "execute_result"
    },
    {
     "data": {
      "image/png": "[encoded data removed]",
      "text/plain": [
       "<Figure size 1080x360 with 3 Axes>"
      ]
     },
     "metadata": {
      "needs_background": "light"
     },
     "output_type": "display_data"
    }
   ],
   "source": [
    "fig, (ax1,ax2,ax3) = plt.subplots(1,3,figsize=(15,5),sharey=True)\n",
    "df_bdnbd.groupby('segment')['predicted_clv'].sum().sort_values(ascending=False).plot(kind='bar',ax=ax1)\n",
    "df_mbgnbd.groupby('segment')['predicted_clv'].sum().sort_values(ascending=False).plot(kind='bar',ax=ax2,color='orange')\n",
    "df_pnbd.groupby('segment')['predicted_clv'].sum().sort_values(ascending=False).plot(kind='bar',ax=ax3,color='yellowgreen')\n",
    "ax1.set_title('CLV of BG/NBD')\n",
    "ax2.set_title('CLV of MBG/NBD')\n",
    "ax3.set_title('CLV of ParetoNBD')\n",
    "ax1.set_ylabel('Pound Sterling')"
   ]
  }
 ],
 "metadata": {
  "kernelspec": {
   "display_name": "Python 3 (ipykernel)",
   "language": "python",
   "name": "python3"
  },
  "language_info": {
   "codemirror_mode": {
    "name": "ipython",
    "version": 3
   },
   "file_extension": ".py",
   "mimetype": "text/x-python",
   "name": "python",
   "nbconvert_exporter": "python",
   "pygments_lexer": "ipython3",
   "version": "3.9.7"
  }
 },
 "nbformat": 4,
 "nbformat_minor": 5
}
